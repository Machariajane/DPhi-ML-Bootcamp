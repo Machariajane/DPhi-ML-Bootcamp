{
  "nbformat": 4,
  "nbformat_minor": 0,
  "metadata": {
    "colab": {
      "name": "Assignment 3: Notebook Submission.ipynb",
      "provenance": [],
      "collapsed_sections": [],
      "include_colab_link": true
    },
    "kernelspec": {
      "display_name": "Python 3",
      "language": "python",
      "name": "python3"
    },
    "language_info": {
      "codemirror_mode": {
        "name": "ipython",
        "version": 3
      },
      "file_extension": ".py",
      "mimetype": "text/x-python",
      "name": "python",
      "nbconvert_exporter": "python",
      "pygments_lexer": "ipython3",
      "version": "3.8.3"
    }
  },
  "cells": [
    {
      "cell_type": "markdown",
      "metadata": {
        "id": "view-in-github",
        "colab_type": "text"
      },
      "source": [
        "<a href=\"https://colab.research.google.com/github/Machariajane/Dphi-ML-Bootcamp/blob/main/Assignment_3_Notebook_Submission.ipynb\" target=\"_parent\"><img src=\"https://colab.research.google.com/assets/colab-badge.svg\" alt=\"Open In Colab\"/></a>"
      ]
    },
    {
      "cell_type": "markdown",
      "metadata": {
        "id": "kAkDHG6SaWBb"
      },
      "source": [
        "## Datathon-2: Notebook Submission\n",
        "This is a template for Assignment 3 of Machine Learning Bootcamp. Please make sure you perform all tasks within the sections created. This ensures that your assignment is evaluated correctly. \n"
      ]
    },
    {
      "cell_type": "markdown",
      "metadata": {
        "id": "3TS_iDuCaWBc"
      },
      "source": [
        "## Task 1"
      ]
    },
    {
      "cell_type": "markdown",
      "metadata": {
        "id": "ads6yBtqaWBc"
      },
      "source": [
        "### Import Libraries"
      ]
    },
    {
      "cell_type": "code",
      "metadata": {
        "id": "0rGlRHBtaWBc"
      },
      "source": [
        "import pandas as pd\r\n",
        "import numpy as np\r\n",
        "import seaborn as sns\r\n",
        "from sklearn.model_selection import train_test_split\r\n",
        "from sklearn.linear_model import LinearRegression\r\n",
        "from sklearn.ensemble import RandomForestRegressor\r\n",
        "from sklearn import tree \r\n",
        "from sklearn.tree import DecisionTreeRegressor\r\n",
        "from sklearn.preprocessing import LabelEncoder\r\n",
        "from sklearn.metrics import mean_absolute_error\r\n",
        "from sklearn.metrics import mean_squared_error\r\n",
        "from sklearn.metrics import r2_score\r\n",
        "import warnings\r\n",
        "warnings.filterwarnings(\"ignore\")\r\n",
        "\r\n",
        "import statsmodels.api as sm\r\n",
        "import scipy.stats as st\r\n",
        "import matplotlib.pyplot as plt\r\n",
        "\r\n",
        "from sklearn.metrics import confusion_matrix\r\n",
        "import matplotlib.mlab as mlab\r\n",
        "%matplotlib inline"
      ],
      "execution_count": null,
      "outputs": []
    },
    {
      "cell_type": "markdown",
      "metadata": {
        "id": "rEEA8eZRaWBd"
      },
      "source": [
        "### Load the data and display first 5 rows."
      ]
    },
    {
      "cell_type": "code",
      "metadata": {
        "colab": {
          "base_uri": "https://localhost:8080/",
          "height": 428
        },
        "id": "mF3Qi2tyaWBd",
        "outputId": "08851769-f14f-4440-b724-12a4dd97588d"
      },
      "source": [
        "cancer_data  = pd.read_csv(\"https://raw.githubusercontent.com/dphi-official/Datasets/master/cancer_death_rate/Training_set_label.csv\" )\r\n",
        "cancer_data.head(5)"
      ],
      "execution_count": null,
      "outputs": [
        {
          "output_type": "execute_result",
          "data": {
            "text/html": [
              "<div>\n",
              "<style scoped>\n",
              "    .dataframe tbody tr th:only-of-type {\n",
              "        vertical-align: middle;\n",
              "    }\n",
              "\n",
              "    .dataframe tbody tr th {\n",
              "        vertical-align: top;\n",
              "    }\n",
              "\n",
              "    .dataframe thead th {\n",
              "        text-align: right;\n",
              "    }\n",
              "</style>\n",
              "<table border=\"1\" class=\"dataframe\">\n",
              "  <thead>\n",
              "    <tr style=\"text-align: right;\">\n",
              "      <th></th>\n",
              "      <th>avgAnnCount</th>\n",
              "      <th>avgDeathsPerYear</th>\n",
              "      <th>incidenceRate</th>\n",
              "      <th>medIncome</th>\n",
              "      <th>popEst2015</th>\n",
              "      <th>povertyPercent</th>\n",
              "      <th>studyPerCap</th>\n",
              "      <th>binnedInc</th>\n",
              "      <th>MedianAge</th>\n",
              "      <th>MedianAgeMale</th>\n",
              "      <th>MedianAgeFemale</th>\n",
              "      <th>Geography</th>\n",
              "      <th>AvgHouseholdSize</th>\n",
              "      <th>PercentMarried</th>\n",
              "      <th>PctNoHS18_24</th>\n",
              "      <th>PctHS18_24</th>\n",
              "      <th>PctSomeCol18_24</th>\n",
              "      <th>PctBachDeg18_24</th>\n",
              "      <th>PctHS25_Over</th>\n",
              "      <th>PctBachDeg25_Over</th>\n",
              "      <th>PctEmployed16_Over</th>\n",
              "      <th>PctUnemployed16_Over</th>\n",
              "      <th>PctPrivateCoverage</th>\n",
              "      <th>PctPrivateCoverageAlone</th>\n",
              "      <th>PctEmpPrivCoverage</th>\n",
              "      <th>PctPublicCoverage</th>\n",
              "      <th>PctPublicCoverageAlone</th>\n",
              "      <th>PctWhite</th>\n",
              "      <th>PctBlack</th>\n",
              "      <th>PctAsian</th>\n",
              "      <th>PctOtherRace</th>\n",
              "      <th>PctMarriedHouseholds</th>\n",
              "      <th>BirthRate</th>\n",
              "      <th>TARGET_deathRate</th>\n",
              "    </tr>\n",
              "  </thead>\n",
              "  <tbody>\n",
              "    <tr>\n",
              "      <th>0</th>\n",
              "      <td>19.0</td>\n",
              "      <td>8</td>\n",
              "      <td>481.5</td>\n",
              "      <td>50038</td>\n",
              "      <td>2704</td>\n",
              "      <td>11.1</td>\n",
              "      <td>0.0</td>\n",
              "      <td>(48021.6, 51046.4]</td>\n",
              "      <td>48.4</td>\n",
              "      <td>49.6</td>\n",
              "      <td>46.4</td>\n",
              "      <td>Hettinger County, North Dakota</td>\n",
              "      <td>2.25</td>\n",
              "      <td>65.9</td>\n",
              "      <td>10.8</td>\n",
              "      <td>25.0</td>\n",
              "      <td>57.4</td>\n",
              "      <td>6.8</td>\n",
              "      <td>37.1</td>\n",
              "      <td>12.2</td>\n",
              "      <td>57.4</td>\n",
              "      <td>1.1</td>\n",
              "      <td>81.2</td>\n",
              "      <td>56.0</td>\n",
              "      <td>35.7</td>\n",
              "      <td>34.7</td>\n",
              "      <td>9.9</td>\n",
              "      <td>96.032049</td>\n",
              "      <td>0.724914</td>\n",
              "      <td>0.000000</td>\n",
              "      <td>0.000000</td>\n",
              "      <td>62.511457</td>\n",
              "      <td>15.157116</td>\n",
              "      <td>160.3</td>\n",
              "    </tr>\n",
              "    <tr>\n",
              "      <th>1</th>\n",
              "      <td>88.0</td>\n",
              "      <td>34</td>\n",
              "      <td>486.0</td>\n",
              "      <td>59399</td>\n",
              "      <td>14844</td>\n",
              "      <td>9.7</td>\n",
              "      <td>0.0</td>\n",
              "      <td>(54545.6, 61494.5]</td>\n",
              "      <td>41.9</td>\n",
              "      <td>41.3</td>\n",
              "      <td>43.2</td>\n",
              "      <td>Mills County, Iowa</td>\n",
              "      <td>2.63</td>\n",
              "      <td>58.6</td>\n",
              "      <td>22.3</td>\n",
              "      <td>29.1</td>\n",
              "      <td>NaN</td>\n",
              "      <td>1.1</td>\n",
              "      <td>35.9</td>\n",
              "      <td>16.0</td>\n",
              "      <td>60.4</td>\n",
              "      <td>3.8</td>\n",
              "      <td>76.7</td>\n",
              "      <td>NaN</td>\n",
              "      <td>50.8</td>\n",
              "      <td>32.1</td>\n",
              "      <td>12.8</td>\n",
              "      <td>97.537344</td>\n",
              "      <td>0.719957</td>\n",
              "      <td>0.080743</td>\n",
              "      <td>0.040371</td>\n",
              "      <td>61.641045</td>\n",
              "      <td>3.293510</td>\n",
              "      <td>194.9</td>\n",
              "    </tr>\n",
              "    <tr>\n",
              "      <th>2</th>\n",
              "      <td>195.0</td>\n",
              "      <td>83</td>\n",
              "      <td>475.7</td>\n",
              "      <td>39721</td>\n",
              "      <td>25164</td>\n",
              "      <td>18.5</td>\n",
              "      <td>0.0</td>\n",
              "      <td>(37413.8, 40362.7]</td>\n",
              "      <td>48.9</td>\n",
              "      <td>47.9</td>\n",
              "      <td>49.9</td>\n",
              "      <td>Gladwin County, Michigan</td>\n",
              "      <td>2.30</td>\n",
              "      <td>57.2</td>\n",
              "      <td>24.9</td>\n",
              "      <td>36.2</td>\n",
              "      <td>NaN</td>\n",
              "      <td>3.5</td>\n",
              "      <td>40.2</td>\n",
              "      <td>7.6</td>\n",
              "      <td>41.2</td>\n",
              "      <td>11.0</td>\n",
              "      <td>61.6</td>\n",
              "      <td>NaN</td>\n",
              "      <td>32.1</td>\n",
              "      <td>49.8</td>\n",
              "      <td>21.6</td>\n",
              "      <td>97.576566</td>\n",
              "      <td>0.360770</td>\n",
              "      <td>0.411749</td>\n",
              "      <td>0.082350</td>\n",
              "      <td>53.978102</td>\n",
              "      <td>6.390328</td>\n",
              "      <td>196.5</td>\n",
              "    </tr>\n",
              "    <tr>\n",
              "      <th>3</th>\n",
              "      <td>116.0</td>\n",
              "      <td>55</td>\n",
              "      <td>496.6</td>\n",
              "      <td>30299</td>\n",
              "      <td>17917</td>\n",
              "      <td>28.1</td>\n",
              "      <td>0.0</td>\n",
              "      <td>[22640, 34218.1]</td>\n",
              "      <td>44.2</td>\n",
              "      <td>42.7</td>\n",
              "      <td>45.2</td>\n",
              "      <td>Fentress County, Tennessee</td>\n",
              "      <td>2.43</td>\n",
              "      <td>53.0</td>\n",
              "      <td>10.9</td>\n",
              "      <td>51.8</td>\n",
              "      <td>NaN</td>\n",
              "      <td>5.3</td>\n",
              "      <td>44.2</td>\n",
              "      <td>7.0</td>\n",
              "      <td>41.6</td>\n",
              "      <td>10.4</td>\n",
              "      <td>45.2</td>\n",
              "      <td>NaN</td>\n",
              "      <td>24.2</td>\n",
              "      <td>53.2</td>\n",
              "      <td>33.0</td>\n",
              "      <td>97.908650</td>\n",
              "      <td>0.161731</td>\n",
              "      <td>0.306731</td>\n",
              "      <td>0.340193</td>\n",
              "      <td>51.013143</td>\n",
              "      <td>5.124836</td>\n",
              "      <td>230.9</td>\n",
              "    </tr>\n",
              "    <tr>\n",
              "      <th>4</th>\n",
              "      <td>80.0</td>\n",
              "      <td>35</td>\n",
              "      <td>372.0</td>\n",
              "      <td>39625</td>\n",
              "      <td>14058</td>\n",
              "      <td>17.4</td>\n",
              "      <td>0.0</td>\n",
              "      <td>(37413.8, 40362.7]</td>\n",
              "      <td>45.0</td>\n",
              "      <td>42.2</td>\n",
              "      <td>48.0</td>\n",
              "      <td>Las Animas County, Colorado</td>\n",
              "      <td>2.36</td>\n",
              "      <td>52.2</td>\n",
              "      <td>12.6</td>\n",
              "      <td>31.2</td>\n",
              "      <td>NaN</td>\n",
              "      <td>0.2</td>\n",
              "      <td>28.3</td>\n",
              "      <td>10.5</td>\n",
              "      <td>49.3</td>\n",
              "      <td>9.2</td>\n",
              "      <td>56.6</td>\n",
              "      <td>NaN</td>\n",
              "      <td>33.4</td>\n",
              "      <td>43.0</td>\n",
              "      <td>24.7</td>\n",
              "      <td>82.672551</td>\n",
              "      <td>1.834103</td>\n",
              "      <td>0.682617</td>\n",
              "      <td>8.253465</td>\n",
              "      <td>50.566426</td>\n",
              "      <td>3.897033</td>\n",
              "      <td>162.2</td>\n",
              "    </tr>\n",
              "  </tbody>\n",
              "</table>\n",
              "</div>"
            ],
            "text/plain": [
              "   avgAnnCount  avgDeathsPerYear  ...  BirthRate  TARGET_deathRate\n",
              "0         19.0                 8  ...  15.157116             160.3\n",
              "1         88.0                34  ...   3.293510             194.9\n",
              "2        195.0                83  ...   6.390328             196.5\n",
              "3        116.0                55  ...   5.124836             230.9\n",
              "4         80.0                35  ...   3.897033             162.2\n",
              "\n",
              "[5 rows x 34 columns]"
            ]
          },
          "metadata": {
            "tags": []
          },
          "execution_count": 9
        }
      ]
    },
    {
      "cell_type": "markdown",
      "metadata": {
        "id": "RHVlzyz6aWBd"
      },
      "source": [
        "### Perform Exploratory Data Analysis"
      ]
    },
    {
      "cell_type": "code",
      "metadata": {
        "colab": {
          "base_uri": "https://localhost:8080/"
        },
        "id": "pNC0AQc6aWBd",
        "outputId": "a9751735-9e8c-4941-bf6d-1671ca4b5c3b"
      },
      "source": [
        "cancer_data.dtypes"
      ],
      "execution_count": null,
      "outputs": [
        {
          "output_type": "execute_result",
          "data": {
            "text/plain": [
              "avgAnnCount                float64\n",
              "avgDeathsPerYear             int64\n",
              "incidenceRate              float64\n",
              "medIncome                    int64\n",
              "popEst2015                   int64\n",
              "povertyPercent             float64\n",
              "studyPerCap                float64\n",
              "binnedInc                   object\n",
              "MedianAge                  float64\n",
              "MedianAgeMale              float64\n",
              "MedianAgeFemale            float64\n",
              "Geography                   object\n",
              "AvgHouseholdSize           float64\n",
              "PercentMarried             float64\n",
              "PctNoHS18_24               float64\n",
              "PctHS18_24                 float64\n",
              "PctSomeCol18_24            float64\n",
              "PctBachDeg18_24            float64\n",
              "PctHS25_Over               float64\n",
              "PctBachDeg25_Over          float64\n",
              "PctEmployed16_Over         float64\n",
              "PctUnemployed16_Over       float64\n",
              "PctPrivateCoverage         float64\n",
              "PctPrivateCoverageAlone    float64\n",
              "PctEmpPrivCoverage         float64\n",
              "PctPublicCoverage          float64\n",
              "PctPublicCoverageAlone     float64\n",
              "PctWhite                   float64\n",
              "PctBlack                   float64\n",
              "PctAsian                   float64\n",
              "PctOtherRace               float64\n",
              "PctMarriedHouseholds       float64\n",
              "BirthRate                  float64\n",
              "TARGET_deathRate           float64\n",
              "dtype: object"
            ]
          },
          "metadata": {
            "tags": []
          },
          "execution_count": 10
        }
      ]
    },
    {
      "cell_type": "code",
      "metadata": {
        "id": "IeGCwNo9Y74G",
        "colab": {
          "base_uri": "https://localhost:8080/"
        },
        "outputId": "03d93e0d-27d7-4813-c469-8c8865c29dfb"
      },
      "source": [
        "cancer_data.info()"
      ],
      "execution_count": null,
      "outputs": [
        {
          "output_type": "stream",
          "text": [
            "<class 'pandas.core.frame.DataFrame'>\n",
            "RangeIndex: 3051 entries, 0 to 3050\n",
            "Data columns (total 34 columns):\n",
            " #   Column                   Non-Null Count  Dtype  \n",
            "---  ------                   --------------  -----  \n",
            " 0   avgAnnCount              3051 non-null   float64\n",
            " 1   avgDeathsPerYear         3051 non-null   int64  \n",
            " 2   incidenceRate            3051 non-null   float64\n",
            " 3   medIncome                3051 non-null   int64  \n",
            " 4   popEst2015               3051 non-null   int64  \n",
            " 5   povertyPercent           3051 non-null   float64\n",
            " 6   studyPerCap              3051 non-null   float64\n",
            " 7   binnedInc                3051 non-null   object \n",
            " 8   MedianAge                3051 non-null   float64\n",
            " 9   MedianAgeMale            3051 non-null   float64\n",
            " 10  MedianAgeFemale          3051 non-null   float64\n",
            " 11  Geography                3051 non-null   object \n",
            " 12  AvgHouseholdSize         3051 non-null   float64\n",
            " 13  PercentMarried           3051 non-null   float64\n",
            " 14  PctNoHS18_24             3051 non-null   float64\n",
            " 15  PctHS18_24               3051 non-null   float64\n",
            " 16  PctSomeCol18_24          785 non-null    float64\n",
            " 17  PctBachDeg18_24          3051 non-null   float64\n",
            " 18  PctHS25_Over             3051 non-null   float64\n",
            " 19  PctBachDeg25_Over        3051 non-null   float64\n",
            " 20  PctEmployed16_Over       2899 non-null   float64\n",
            " 21  PctUnemployed16_Over     3051 non-null   float64\n",
            " 22  PctPrivateCoverage       3051 non-null   float64\n",
            " 23  PctPrivateCoverageAlone  2447 non-null   float64\n",
            " 24  PctEmpPrivCoverage       3051 non-null   float64\n",
            " 25  PctPublicCoverage        3051 non-null   float64\n",
            " 26  PctPublicCoverageAlone   3051 non-null   float64\n",
            " 27  PctWhite                 3051 non-null   float64\n",
            " 28  PctBlack                 3051 non-null   float64\n",
            " 29  PctAsian                 3051 non-null   float64\n",
            " 30  PctOtherRace             3051 non-null   float64\n",
            " 31  PctMarriedHouseholds     3051 non-null   float64\n",
            " 32  BirthRate                3051 non-null   float64\n",
            " 33  TARGET_deathRate         3051 non-null   float64\n",
            "dtypes: float64(29), int64(3), object(2)\n",
            "memory usage: 810.5+ KB\n"
          ],
          "name": "stdout"
        }
      ]
    },
    {
      "cell_type": "code",
      "metadata": {
        "id": "Nizfl6v7XvS0"
      },
      "source": [
        "cancer_data=cancer_data.drop_duplicates()"
      ],
      "execution_count": null,
      "outputs": []
    },
    {
      "cell_type": "code",
      "metadata": {
        "id": "qZ4tHtFPTI8x",
        "colab": {
          "base_uri": "https://localhost:8080/"
        },
        "outputId": "754b08b5-0ef0-40c9-da85-54dc27cca93e"
      },
      "source": [
        "cancer_data.info()"
      ],
      "execution_count": null,
      "outputs": [
        {
          "output_type": "stream",
          "text": [
            "<class 'pandas.core.frame.DataFrame'>\n",
            "Int64Index: 2285 entries, 0 to 2284\n",
            "Data columns (total 34 columns):\n",
            " #   Column                   Non-Null Count  Dtype  \n",
            "---  ------                   --------------  -----  \n",
            " 0   avgAnnCount              2285 non-null   float64\n",
            " 1   avgDeathsPerYear         2285 non-null   int64  \n",
            " 2   incidenceRate            2285 non-null   float64\n",
            " 3   medIncome                2285 non-null   int64  \n",
            " 4   popEst2015               2285 non-null   int64  \n",
            " 5   povertyPercent           2285 non-null   float64\n",
            " 6   studyPerCap              2285 non-null   float64\n",
            " 7   binnedInc                2285 non-null   object \n",
            " 8   MedianAge                2285 non-null   float64\n",
            " 9   MedianAgeMale            2285 non-null   float64\n",
            " 10  MedianAgeFemale          2285 non-null   float64\n",
            " 11  Geography                2285 non-null   object \n",
            " 12  AvgHouseholdSize         2285 non-null   float64\n",
            " 13  PercentMarried           2285 non-null   float64\n",
            " 14  PctNoHS18_24             2285 non-null   float64\n",
            " 15  PctHS18_24               2285 non-null   float64\n",
            " 16  PctSomeCol18_24          580 non-null    float64\n",
            " 17  PctBachDeg18_24          2285 non-null   float64\n",
            " 18  PctHS25_Over             2285 non-null   float64\n",
            " 19  PctBachDeg25_Over        2285 non-null   float64\n",
            " 20  PctEmployed16_Over       2166 non-null   float64\n",
            " 21  PctUnemployed16_Over     2285 non-null   float64\n",
            " 22  PctPrivateCoverage       2285 non-null   float64\n",
            " 23  PctPrivateCoverageAlone  1824 non-null   float64\n",
            " 24  PctEmpPrivCoverage       2285 non-null   float64\n",
            " 25  PctPublicCoverage        2285 non-null   float64\n",
            " 26  PctPublicCoverageAlone   2285 non-null   float64\n",
            " 27  PctWhite                 2285 non-null   float64\n",
            " 28  PctBlack                 2285 non-null   float64\n",
            " 29  PctAsian                 2285 non-null   float64\n",
            " 30  PctOtherRace             2285 non-null   float64\n",
            " 31  PctMarriedHouseholds     2285 non-null   float64\n",
            " 32  BirthRate                2285 non-null   float64\n",
            " 33  TARGET_deathRate         2285 non-null   float64\n",
            "dtypes: float64(29), int64(3), object(2)\n",
            "memory usage: 624.8+ KB\n"
          ],
          "name": "stdout"
        }
      ]
    },
    {
      "cell_type": "code",
      "metadata": {
        "colab": {
          "base_uri": "https://localhost:8080/",
          "height": 317
        },
        "id": "zFO9rlViavxB",
        "outputId": "7a08c81b-822f-429a-f448-7801107acd88"
      },
      "source": [
        "cancer_data.describe()"
      ],
      "execution_count": null,
      "outputs": [
        {
          "output_type": "execute_result",
          "data": {
            "text/html": [
              "<div>\n",
              "<style scoped>\n",
              "    .dataframe tbody tr th:only-of-type {\n",
              "        vertical-align: middle;\n",
              "    }\n",
              "\n",
              "    .dataframe tbody tr th {\n",
              "        vertical-align: top;\n",
              "    }\n",
              "\n",
              "    .dataframe thead th {\n",
              "        text-align: right;\n",
              "    }\n",
              "</style>\n",
              "<table border=\"1\" class=\"dataframe\">\n",
              "  <thead>\n",
              "    <tr style=\"text-align: right;\">\n",
              "      <th></th>\n",
              "      <th>avgAnnCount</th>\n",
              "      <th>avgDeathsPerYear</th>\n",
              "      <th>incidenceRate</th>\n",
              "      <th>medIncome</th>\n",
              "      <th>popEst2015</th>\n",
              "      <th>povertyPercent</th>\n",
              "      <th>studyPerCap</th>\n",
              "      <th>MedianAge</th>\n",
              "      <th>MedianAgeMale</th>\n",
              "      <th>MedianAgeFemale</th>\n",
              "      <th>AvgHouseholdSize</th>\n",
              "      <th>PercentMarried</th>\n",
              "      <th>PctNoHS18_24</th>\n",
              "      <th>PctHS18_24</th>\n",
              "      <th>PctSomeCol18_24</th>\n",
              "      <th>PctBachDeg18_24</th>\n",
              "      <th>PctHS25_Over</th>\n",
              "      <th>PctBachDeg25_Over</th>\n",
              "      <th>PctEmployed16_Over</th>\n",
              "      <th>PctUnemployed16_Over</th>\n",
              "      <th>PctPrivateCoverage</th>\n",
              "      <th>PctPrivateCoverageAlone</th>\n",
              "      <th>PctEmpPrivCoverage</th>\n",
              "      <th>PctPublicCoverage</th>\n",
              "      <th>PctPublicCoverageAlone</th>\n",
              "      <th>PctWhite</th>\n",
              "      <th>PctBlack</th>\n",
              "      <th>PctAsian</th>\n",
              "      <th>PctOtherRace</th>\n",
              "      <th>PctMarriedHouseholds</th>\n",
              "      <th>BirthRate</th>\n",
              "      <th>TARGET_deathRate</th>\n",
              "    </tr>\n",
              "  </thead>\n",
              "  <tbody>\n",
              "    <tr>\n",
              "      <th>count</th>\n",
              "      <td>2285.000000</td>\n",
              "      <td>2285.000000</td>\n",
              "      <td>2285.000000</td>\n",
              "      <td>2285.000000</td>\n",
              "      <td>2.285000e+03</td>\n",
              "      <td>2285.000000</td>\n",
              "      <td>2285.000000</td>\n",
              "      <td>2285.000000</td>\n",
              "      <td>2285.000000</td>\n",
              "      <td>2285.000000</td>\n",
              "      <td>2285.000000</td>\n",
              "      <td>2285.000000</td>\n",
              "      <td>2285.000000</td>\n",
              "      <td>2285.000000</td>\n",
              "      <td>580.000000</td>\n",
              "      <td>2285.000000</td>\n",
              "      <td>2285.000000</td>\n",
              "      <td>2285.000000</td>\n",
              "      <td>2166.000000</td>\n",
              "      <td>2285.000000</td>\n",
              "      <td>2285.000000</td>\n",
              "      <td>1824.000000</td>\n",
              "      <td>2285.000000</td>\n",
              "      <td>2285.000000</td>\n",
              "      <td>2285.000000</td>\n",
              "      <td>2285.000000</td>\n",
              "      <td>2285.000000</td>\n",
              "      <td>2285.000000</td>\n",
              "      <td>2285.000000</td>\n",
              "      <td>2285.000000</td>\n",
              "      <td>2285.000000</td>\n",
              "      <td>2285.000000</td>\n",
              "    </tr>\n",
              "    <tr>\n",
              "      <th>mean</th>\n",
              "      <td>571.234205</td>\n",
              "      <td>174.378993</td>\n",
              "      <td>448.623549</td>\n",
              "      <td>47074.547484</td>\n",
              "      <td>9.408955e+04</td>\n",
              "      <td>16.844114</td>\n",
              "      <td>157.867047</td>\n",
              "      <td>44.651554</td>\n",
              "      <td>39.553961</td>\n",
              "      <td>42.186389</td>\n",
              "      <td>2.472682</td>\n",
              "      <td>51.851904</td>\n",
              "      <td>18.249147</td>\n",
              "      <td>34.938993</td>\n",
              "      <td>41.103448</td>\n",
              "      <td>6.134004</td>\n",
              "      <td>34.895142</td>\n",
              "      <td>13.245602</td>\n",
              "      <td>54.194783</td>\n",
              "      <td>7.814004</td>\n",
              "      <td>64.572998</td>\n",
              "      <td>48.671930</td>\n",
              "      <td>41.392298</td>\n",
              "      <td>36.177681</td>\n",
              "      <td>19.130197</td>\n",
              "      <td>83.931081</td>\n",
              "      <td>9.178553</td>\n",
              "      <td>1.225134</td>\n",
              "      <td>1.893018</td>\n",
              "      <td>51.349858</td>\n",
              "      <td>5.608094</td>\n",
              "      <td>178.634048</td>\n",
              "    </tr>\n",
              "    <tr>\n",
              "      <th>std</th>\n",
              "      <td>1190.111708</td>\n",
              "      <td>421.262817</td>\n",
              "      <td>53.820617</td>\n",
              "      <td>12060.339617</td>\n",
              "      <td>2.600029e+05</td>\n",
              "      <td>6.367053</td>\n",
              "      <td>545.021969</td>\n",
              "      <td>40.949109</td>\n",
              "      <td>5.143357</td>\n",
              "      <td>5.225447</td>\n",
              "      <td>0.437257</td>\n",
              "      <td>6.799192</td>\n",
              "      <td>8.145066</td>\n",
              "      <td>9.090265</td>\n",
              "      <td>11.019673</td>\n",
              "      <td>4.626618</td>\n",
              "      <td>7.007781</td>\n",
              "      <td>5.358782</td>\n",
              "      <td>8.241199</td>\n",
              "      <td>3.424348</td>\n",
              "      <td>10.506903</td>\n",
              "      <td>9.972369</td>\n",
              "      <td>9.315390</td>\n",
              "      <td>7.705536</td>\n",
              "      <td>5.990494</td>\n",
              "      <td>16.047996</td>\n",
              "      <td>14.570705</td>\n",
              "      <td>2.477965</td>\n",
              "      <td>3.300919</td>\n",
              "      <td>6.493298</td>\n",
              "      <td>1.958079</td>\n",
              "      <td>27.381280</td>\n",
              "    </tr>\n",
              "    <tr>\n",
              "      <th>min</th>\n",
              "      <td>6.000000</td>\n",
              "      <td>3.000000</td>\n",
              "      <td>211.100000</td>\n",
              "      <td>22640.000000</td>\n",
              "      <td>8.270000e+02</td>\n",
              "      <td>3.200000</td>\n",
              "      <td>0.000000</td>\n",
              "      <td>22.300000</td>\n",
              "      <td>22.400000</td>\n",
              "      <td>22.300000</td>\n",
              "      <td>0.022100</td>\n",
              "      <td>25.100000</td>\n",
              "      <td>0.000000</td>\n",
              "      <td>0.000000</td>\n",
              "      <td>7.100000</td>\n",
              "      <td>0.000000</td>\n",
              "      <td>7.500000</td>\n",
              "      <td>3.200000</td>\n",
              "      <td>17.600000</td>\n",
              "      <td>0.400000</td>\n",
              "      <td>23.400000</td>\n",
              "      <td>16.800000</td>\n",
              "      <td>14.300000</td>\n",
              "      <td>11.800000</td>\n",
              "      <td>2.600000</td>\n",
              "      <td>11.008762</td>\n",
              "      <td>0.000000</td>\n",
              "      <td>0.000000</td>\n",
              "      <td>0.000000</td>\n",
              "      <td>23.915652</td>\n",
              "      <td>0.000000</td>\n",
              "      <td>66.300000</td>\n",
              "    </tr>\n",
              "    <tr>\n",
              "      <th>25%</th>\n",
              "      <td>78.000000</td>\n",
              "      <td>29.000000</td>\n",
              "      <td>421.400000</td>\n",
              "      <td>38928.000000</td>\n",
              "      <td>1.210300e+04</td>\n",
              "      <td>12.100000</td>\n",
              "      <td>0.000000</td>\n",
              "      <td>37.800000</td>\n",
              "      <td>36.400000</td>\n",
              "      <td>39.100000</td>\n",
              "      <td>2.370000</td>\n",
              "      <td>47.800000</td>\n",
              "      <td>12.800000</td>\n",
              "      <td>29.200000</td>\n",
              "      <td>34.075000</td>\n",
              "      <td>3.000000</td>\n",
              "      <td>30.700000</td>\n",
              "      <td>9.300000</td>\n",
              "      <td>48.625000</td>\n",
              "      <td>5.500000</td>\n",
              "      <td>57.600000</td>\n",
              "      <td>41.475000</td>\n",
              "      <td>34.700000</td>\n",
              "      <td>30.900000</td>\n",
              "      <td>14.800000</td>\n",
              "      <td>77.573219</td>\n",
              "      <td>0.634382</td>\n",
              "      <td>0.260382</td>\n",
              "      <td>0.292913</td>\n",
              "      <td>47.813926</td>\n",
              "      <td>4.497369</td>\n",
              "      <td>161.300000</td>\n",
              "    </tr>\n",
              "    <tr>\n",
              "      <th>50%</th>\n",
              "      <td>174.000000</td>\n",
              "      <td>62.000000</td>\n",
              "      <td>453.549422</td>\n",
              "      <td>45193.000000</td>\n",
              "      <td>2.702000e+04</td>\n",
              "      <td>15.900000</td>\n",
              "      <td>0.000000</td>\n",
              "      <td>40.900000</td>\n",
              "      <td>39.500000</td>\n",
              "      <td>42.400000</td>\n",
              "      <td>2.500000</td>\n",
              "      <td>52.500000</td>\n",
              "      <td>17.200000</td>\n",
              "      <td>34.600000</td>\n",
              "      <td>40.800000</td>\n",
              "      <td>5.300000</td>\n",
              "      <td>35.300000</td>\n",
              "      <td>12.300000</td>\n",
              "      <td>54.450000</td>\n",
              "      <td>7.600000</td>\n",
              "      <td>65.300000</td>\n",
              "      <td>48.800000</td>\n",
              "      <td>41.300000</td>\n",
              "      <td>36.300000</td>\n",
              "      <td>18.700000</td>\n",
              "      <td>90.223401</td>\n",
              "      <td>2.321900</td>\n",
              "      <td>0.555160</td>\n",
              "      <td>0.824313</td>\n",
              "      <td>51.735016</td>\n",
              "      <td>5.389798</td>\n",
              "      <td>178.100000</td>\n",
              "    </tr>\n",
              "    <tr>\n",
              "      <th>75%</th>\n",
              "      <td>512.000000</td>\n",
              "      <td>149.000000</td>\n",
              "      <td>480.900000</td>\n",
              "      <td>52526.000000</td>\n",
              "      <td>6.834800e+04</td>\n",
              "      <td>20.400000</td>\n",
              "      <td>85.804542</td>\n",
              "      <td>43.900000</td>\n",
              "      <td>42.400000</td>\n",
              "      <td>45.300000</td>\n",
              "      <td>2.630000</td>\n",
              "      <td>56.500000</td>\n",
              "      <td>22.600000</td>\n",
              "      <td>40.700000</td>\n",
              "      <td>46.725000</td>\n",
              "      <td>8.100000</td>\n",
              "      <td>39.700000</td>\n",
              "      <td>16.100000</td>\n",
              "      <td>60.300000</td>\n",
              "      <td>9.700000</td>\n",
              "      <td>72.200000</td>\n",
              "      <td>55.700000</td>\n",
              "      <td>47.700000</td>\n",
              "      <td>41.400000</td>\n",
              "      <td>22.900000</td>\n",
              "      <td>95.550013</td>\n",
              "      <td>10.463576</td>\n",
              "      <td>1.188641</td>\n",
              "      <td>2.071795</td>\n",
              "      <td>55.448354</td>\n",
              "      <td>6.469649</td>\n",
              "      <td>195.200000</td>\n",
              "    </tr>\n",
              "    <tr>\n",
              "      <th>max</th>\n",
              "      <td>24965.000000</td>\n",
              "      <td>9445.000000</td>\n",
              "      <td>1206.900000</td>\n",
              "      <td>125635.000000</td>\n",
              "      <td>5.238216e+06</td>\n",
              "      <td>47.000000</td>\n",
              "      <td>9762.308998</td>\n",
              "      <td>525.600000</td>\n",
              "      <td>64.700000</td>\n",
              "      <td>65.700000</td>\n",
              "      <td>3.930000</td>\n",
              "      <td>72.500000</td>\n",
              "      <td>64.100000</td>\n",
              "      <td>72.500000</td>\n",
              "      <td>79.000000</td>\n",
              "      <td>51.800000</td>\n",
              "      <td>54.800000</td>\n",
              "      <td>40.400000</td>\n",
              "      <td>76.500000</td>\n",
              "      <td>29.400000</td>\n",
              "      <td>92.300000</td>\n",
              "      <td>78.900000</td>\n",
              "      <td>70.700000</td>\n",
              "      <td>65.100000</td>\n",
              "      <td>46.600000</td>\n",
              "      <td>100.000000</td>\n",
              "      <td>84.866024</td>\n",
              "      <td>35.640183</td>\n",
              "      <td>38.743747</td>\n",
              "      <td>71.703057</td>\n",
              "      <td>21.326165</td>\n",
              "      <td>362.800000</td>\n",
              "    </tr>\n",
              "  </tbody>\n",
              "</table>\n",
              "</div>"
            ],
            "text/plain": [
              "        avgAnnCount  avgDeathsPerYear  ...    BirthRate  TARGET_deathRate\n",
              "count   2285.000000       2285.000000  ...  2285.000000       2285.000000\n",
              "mean     571.234205        174.378993  ...     5.608094        178.634048\n",
              "std     1190.111708        421.262817  ...     1.958079         27.381280\n",
              "min        6.000000          3.000000  ...     0.000000         66.300000\n",
              "25%       78.000000         29.000000  ...     4.497369        161.300000\n",
              "50%      174.000000         62.000000  ...     5.389798        178.100000\n",
              "75%      512.000000        149.000000  ...     6.469649        195.200000\n",
              "max    24965.000000       9445.000000  ...    21.326165        362.800000\n",
              "\n",
              "[8 rows x 32 columns]"
            ]
          },
          "metadata": {
            "tags": []
          },
          "execution_count": 14
        }
      ]
    },
    {
      "cell_type": "code",
      "metadata": {
        "colab": {
          "base_uri": "https://localhost:8080/",
          "height": 1000
        },
        "id": "UEnC58mIbdD7",
        "outputId": "224a0daa-b252-4148-a3d7-b91e6ab32646"
      },
      "source": [
        "cancer_data.hist(bins=10, figsize=(18,18))\r\n",
        "plt.show()"
      ],
      "execution_count": null,
      "outputs": [
        {
          "output_type": "display_data",
          "data": {
            "image/png": "[encoded data removed]",
            "text/plain": [
              "<Figure size 1296x1296 with 36 Axes>"
            ]
          },
          "metadata": {
            "tags": [],
            "needs_background": "light"
          }
        }
      ]
    },
    {
      "cell_type": "code",
      "metadata": {
        "colab": {
          "base_uri": "https://localhost:8080/",
          "height": 854
        },
        "id": "iylpIR_NcoOi",
        "outputId": "2fa91c7d-c0c9-4292-dfb1-1e1b89089298"
      },
      "source": [
        "plt.figure(figsize=(16, 12))\r\n",
        "sns.heatmap(cancer_data.corr(), cmap='bwr')     "
      ],
      "execution_count": null,
      "outputs": [
        {
          "output_type": "execute_result",
          "data": {
            "text/plain": [
              "<matplotlib.axes._subplots.AxesSubplot at 0x7fd3a1b585f8>"
            ]
          },
          "metadata": {
            "tags": []
          },
          "execution_count": 43
        },
        {
          "output_type": "display_data",
          "data": {
            "image/png": "[encoded data removed]",
            "text/plain": [
              "<Figure size 1152x864 with 2 Axes>"
            ]
          },
          "metadata": {
            "tags": []
          }
        }
      ]
    },
    {
      "cell_type": "code",
      "metadata": {
        "colab": {
          "base_uri": "https://localhost:8080/"
        },
        "id": "0rVHn4hud8vc",
        "outputId": "51a8276b-eb7f-4a70-82bb-dd67c3660f9a"
      },
      "source": [
        "sns.pairplot(cancer_data)"
      ],
      "execution_count": null,
      "outputs": [
        {
          "output_type": "execute_result",
          "data": {
            "text/plain": [
              "<seaborn.axisgrid.PairGrid at 0x7fd3acd34978>"
            ]
          },
          "metadata": {
            "tags": []
          },
          "execution_count": 44
        }
      ]
    },
    {
      "cell_type": "code",
      "metadata": {
        "colab": {
          "base_uri": "https://localhost:8080/"
        },
        "id": "0noIm6XaAA9e",
        "outputId": "119e017d-3985-487d-d726-7cdbf58a3201"
      },
      "source": [
        "cancer_data.info()"
      ],
      "execution_count": null,
      "outputs": [
        {
          "output_type": "stream",
          "text": [
            "<class 'pandas.core.frame.DataFrame'>\n",
            "Int64Index: 2285 entries, 0 to 2284\n",
            "Data columns (total 34 columns):\n",
            " #   Column                   Non-Null Count  Dtype  \n",
            "---  ------                   --------------  -----  \n",
            " 0   avgAnnCount              2285 non-null   float64\n",
            " 1   avgDeathsPerYear         2285 non-null   int64  \n",
            " 2   incidenceRate            2285 non-null   float64\n",
            " 3   medIncome                2285 non-null   int64  \n",
            " 4   popEst2015               2285 non-null   int64  \n",
            " 5   povertyPercent           2285 non-null   float64\n",
            " 6   studyPerCap              2285 non-null   float64\n",
            " 7   binnedInc                2285 non-null   object \n",
            " 8   MedianAge                2285 non-null   float64\n",
            " 9   MedianAgeMale            2285 non-null   float64\n",
            " 10  MedianAgeFemale          2285 non-null   float64\n",
            " 11  Geography                2285 non-null   object \n",
            " 12  AvgHouseholdSize         2285 non-null   float64\n",
            " 13  PercentMarried           2285 non-null   float64\n",
            " 14  PctNoHS18_24             2285 non-null   float64\n",
            " 15  PctHS18_24               2285 non-null   float64\n",
            " 16  PctSomeCol18_24          580 non-null    float64\n",
            " 17  PctBachDeg18_24          2285 non-null   float64\n",
            " 18  PctHS25_Over             2285 non-null   float64\n",
            " 19  PctBachDeg25_Over        2285 non-null   float64\n",
            " 20  PctEmployed16_Over       2166 non-null   float64\n",
            " 21  PctUnemployed16_Over     2285 non-null   float64\n",
            " 22  PctPrivateCoverage       2285 non-null   float64\n",
            " 23  PctPrivateCoverageAlone  1824 non-null   float64\n",
            " 24  PctEmpPrivCoverage       2285 non-null   float64\n",
            " 25  PctPublicCoverage        2285 non-null   float64\n",
            " 26  PctPublicCoverageAlone   2285 non-null   float64\n",
            " 27  PctWhite                 2285 non-null   float64\n",
            " 28  PctBlack                 2285 non-null   float64\n",
            " 29  PctAsian                 2285 non-null   float64\n",
            " 30  PctOtherRace             2285 non-null   float64\n",
            " 31  PctMarriedHouseholds     2285 non-null   float64\n",
            " 32  BirthRate                2285 non-null   float64\n",
            " 33  TARGET_deathRate         2285 non-null   float64\n",
            "dtypes: float64(29), int64(3), object(2)\n",
            "memory usage: 624.8+ KB\n"
          ],
          "name": "stdout"
        }
      ]
    },
    {
      "cell_type": "markdown",
      "metadata": {
        "id": "-6Xcy9FeaWBd"
      },
      "source": [
        "### Separate the Input and Target Features of the data"
      ]
    },
    {
      "cell_type": "code",
      "metadata": {
        "id": "yxHNqG1PaWBd"
      },
      "source": [
        "X = cancer_data.drop('TARGET_deathRate', axis = 1) \r\n",
        "\r\n",
        "\r\n",
        "y =cancer_data['TARGET_deathRate']"
      ],
      "execution_count": null,
      "outputs": []
    },
    {
      "cell_type": "markdown",
      "metadata": {
        "id": "Bsyki2hjaWBd"
      },
      "source": [
        "### Split the data into Train and Test Sets"
      ]
    },
    {
      "cell_type": "markdown",
      "metadata": {
        "id": "TxrLa4XJGrUA"
      },
      "source": [
        "seperate test and train features before data preparation to reduce bias \r\n"
      ]
    },
    {
      "cell_type": "code",
      "metadata": {
        "id": "nMPnzPZ2aWBd"
      },
      "source": [
        "X_train, X_test, y_train, y_test = train_test_split(X, y, test_size = 0.2, random_state = 42)"
      ],
      "execution_count": null,
      "outputs": []
    },
    {
      "cell_type": "markdown",
      "metadata": {
        "id": "o5UZz7b9I9eJ"
      },
      "source": [
        "## Task 2"
      ]
    },
    {
      "cell_type": "markdown",
      "metadata": {
        "id": "kNuCKaCkaWBd"
      },
      "source": [
        "### Perform Data Preparation Steps"
      ]
    },
    {
      "cell_type": "code",
      "metadata": {
        "colab": {
          "base_uri": "https://localhost:8080/"
        },
        "id": "tZj34bj8UFIM",
        "outputId": "e32db097-2ec7-47e6-8f75-80227c4cbdd6"
      },
      "source": [
        "X_train.isnull().sum()"
      ],
      "execution_count": null,
      "outputs": [
        {
          "output_type": "execute_result",
          "data": {
            "text/plain": [
              "avgAnnCount                   0\n",
              "avgDeathsPerYear              0\n",
              "incidenceRate                 0\n",
              "medIncome                     0\n",
              "popEst2015                    0\n",
              "povertyPercent                0\n",
              "studyPerCap                   0\n",
              "binnedInc                     0\n",
              "MedianAge                     0\n",
              "MedianAgeMale                 0\n",
              "MedianAgeFemale               0\n",
              "Geography                     0\n",
              "AvgHouseholdSize              0\n",
              "PercentMarried                0\n",
              "PctNoHS18_24                  0\n",
              "PctHS18_24                    0\n",
              "PctSomeCol18_24            1376\n",
              "PctBachDeg18_24               0\n",
              "PctHS25_Over                  0\n",
              "PctBachDeg25_Over             0\n",
              "PctEmployed16_Over          100\n",
              "PctUnemployed16_Over          0\n",
              "PctPrivateCoverage            0\n",
              "PctPrivateCoverageAlone     379\n",
              "PctEmpPrivCoverage            0\n",
              "PctPublicCoverage             0\n",
              "PctPublicCoverageAlone        0\n",
              "PctWhite                      0\n",
              "PctBlack                      0\n",
              "PctAsian                      0\n",
              "PctOtherRace                  0\n",
              "PctMarriedHouseholds          0\n",
              "BirthRate                     0\n",
              "dtype: int64"
            ]
          },
          "metadata": {
            "tags": []
          },
          "execution_count": 20
        }
      ]
    },
    {
      "cell_type": "code",
      "metadata": {
        "id": "kQIDYgIyEz5q"
      },
      "source": [
        "# eliminate values with more than 20% missingness\r\n",
        "X_train = X_train[X_train.columns[X_train.isnull().mean() < 0.2]]"
      ],
      "execution_count": null,
      "outputs": []
    },
    {
      "cell_type": "code",
      "metadata": {
        "colab": {
          "base_uri": "https://localhost:8080/"
        },
        "id": "KoOY1QNpUDYQ",
        "outputId": "97390bf8-a045-43ea-ec7d-96f734208913"
      },
      "source": [
        "X_train.isnull().sum()"
      ],
      "execution_count": null,
      "outputs": [
        {
          "output_type": "execute_result",
          "data": {
            "text/plain": [
              "avgAnnCount                 0\n",
              "avgDeathsPerYear            0\n",
              "incidenceRate               0\n",
              "medIncome                   0\n",
              "popEst2015                  0\n",
              "povertyPercent              0\n",
              "studyPerCap                 0\n",
              "binnedInc                   0\n",
              "MedianAge                   0\n",
              "MedianAgeMale               0\n",
              "MedianAgeFemale             0\n",
              "Geography                   0\n",
              "AvgHouseholdSize            0\n",
              "PercentMarried              0\n",
              "PctNoHS18_24                0\n",
              "PctHS18_24                  0\n",
              "PctBachDeg18_24             0\n",
              "PctHS25_Over                0\n",
              "PctBachDeg25_Over           0\n",
              "PctEmployed16_Over        100\n",
              "PctUnemployed16_Over        0\n",
              "PctPrivateCoverage          0\n",
              "PctEmpPrivCoverage          0\n",
              "PctPublicCoverage           0\n",
              "PctPublicCoverageAlone      0\n",
              "PctWhite                    0\n",
              "PctBlack                    0\n",
              "PctAsian                    0\n",
              "PctOtherRace                0\n",
              "PctMarriedHouseholds        0\n",
              "BirthRate                   0\n",
              "dtype: int64"
            ]
          },
          "metadata": {
            "tags": []
          },
          "execution_count": 22
        }
      ]
    },
    {
      "cell_type": "code",
      "metadata": {
        "id": "QO4tbguPFCNF"
      },
      "source": [
        "# fill missing column with mean of that column \r\n",
        "X_train['PctEmployed16_Over'].fillna((X_train['PctEmployed16_Over'].mean()), inplace=True)"
      ],
      "execution_count": null,
      "outputs": []
    },
    {
      "cell_type": "code",
      "metadata": {
        "colab": {
          "base_uri": "https://localhost:8080/"
        },
        "id": "iavYsZYxVBJv",
        "outputId": "5c35e7d0-ba27-411c-e2d3-80fc9a62878c"
      },
      "source": [
        "X_train.isnull().sum()"
      ],
      "execution_count": null,
      "outputs": [
        {
          "output_type": "execute_result",
          "data": {
            "text/plain": [
              "avgAnnCount               0\n",
              "avgDeathsPerYear          0\n",
              "incidenceRate             0\n",
              "medIncome                 0\n",
              "popEst2015                0\n",
              "povertyPercent            0\n",
              "studyPerCap               0\n",
              "binnedInc                 0\n",
              "MedianAge                 0\n",
              "MedianAgeMale             0\n",
              "MedianAgeFemale           0\n",
              "Geography                 0\n",
              "AvgHouseholdSize          0\n",
              "PercentMarried            0\n",
              "PctNoHS18_24              0\n",
              "PctHS18_24                0\n",
              "PctBachDeg18_24           0\n",
              "PctHS25_Over              0\n",
              "PctBachDeg25_Over         0\n",
              "PctEmployed16_Over        0\n",
              "PctUnemployed16_Over      0\n",
              "PctPrivateCoverage        0\n",
              "PctEmpPrivCoverage        0\n",
              "PctPublicCoverage         0\n",
              "PctPublicCoverageAlone    0\n",
              "PctWhite                  0\n",
              "PctBlack                  0\n",
              "PctAsian                  0\n",
              "PctOtherRace              0\n",
              "PctMarriedHouseholds      0\n",
              "BirthRate                 0\n",
              "dtype: int64"
            ]
          },
          "metadata": {
            "tags": []
          },
          "execution_count": 24
        }
      ]
    },
    {
      "cell_type": "code",
      "metadata": {
        "id": "6wwaNbSUF8fD"
      },
      "source": [
        "# drop columns that are irrelevant\r\n",
        "X_train= X_train.drop(columns=['binnedInc', 'Geography'])"
      ],
      "execution_count": null,
      "outputs": []
    },
    {
      "cell_type": "code",
      "metadata": {
        "id": "tiQWp0BmNqOm"
      },
      "source": [
        "X_train = X_train.reset_index()"
      ],
      "execution_count": null,
      "outputs": []
    },
    {
      "cell_type": "code",
      "metadata": {
        "id": "XuvrfBOJNt1y"
      },
      "source": [
        "X_train= X_train.drop(columns=['index'])"
      ],
      "execution_count": null,
      "outputs": []
    },
    {
      "cell_type": "markdown",
      "metadata": {
        "id": "VAmpBSzQHBfQ"
      },
      "source": [
        "Doing the same data preparation on X_test(test features)"
      ]
    },
    {
      "cell_type": "code",
      "metadata": {
        "id": "FaIREM3wMdqg"
      },
      "source": [
        "X_test = X_test.reset_index()"
      ],
      "execution_count": null,
      "outputs": []
    },
    {
      "cell_type": "code",
      "metadata": {
        "id": "kZigB73JXZ_M"
      },
      "source": [
        "# drop columns that are irrelevant\r\n",
        "X_test= X_test.drop(columns=['binnedInc', 'Geography','PctSomeCol18_24','PctPrivateCoverageAlone'])"
      ],
      "execution_count": null,
      "outputs": []
    },
    {
      "cell_type": "code",
      "metadata": {
        "colab": {
          "base_uri": "https://localhost:8080/"
        },
        "id": "oFapc7OtXjH7",
        "outputId": "f77d1ef0-9a0f-4ce1-d569-dc469b2e82ee"
      },
      "source": [
        "X_test.isnull().sum()"
      ],
      "execution_count": null,
      "outputs": [
        {
          "output_type": "execute_result",
          "data": {
            "text/plain": [
              "index                      0\n",
              "avgAnnCount                0\n",
              "avgDeathsPerYear           0\n",
              "incidenceRate              0\n",
              "medIncome                  0\n",
              "popEst2015                 0\n",
              "povertyPercent             0\n",
              "studyPerCap                0\n",
              "MedianAge                  0\n",
              "MedianAgeMale              0\n",
              "MedianAgeFemale            0\n",
              "AvgHouseholdSize           0\n",
              "PercentMarried             0\n",
              "PctNoHS18_24               0\n",
              "PctHS18_24                 0\n",
              "PctBachDeg18_24            0\n",
              "PctHS25_Over               0\n",
              "PctBachDeg25_Over          0\n",
              "PctEmployed16_Over        19\n",
              "PctUnemployed16_Over       0\n",
              "PctPrivateCoverage         0\n",
              "PctEmpPrivCoverage         0\n",
              "PctPublicCoverage          0\n",
              "PctPublicCoverageAlone     0\n",
              "PctWhite                   0\n",
              "PctBlack                   0\n",
              "PctAsian                   0\n",
              "PctOtherRace               0\n",
              "PctMarriedHouseholds       0\n",
              "BirthRate                  0\n",
              "dtype: int64"
            ]
          },
          "metadata": {
            "tags": []
          },
          "execution_count": 30
        }
      ]
    },
    {
      "cell_type": "code",
      "metadata": {
        "id": "x9aYX29_IIFc"
      },
      "source": [
        "X_test['PctEmployed16_Over'].fillna((X_test['PctEmployed16_Over'].mean()), inplace=True)"
      ],
      "execution_count": null,
      "outputs": []
    },
    {
      "cell_type": "code",
      "metadata": {
        "id": "ccjOeBwQZ2VE"
      },
      "source": [
        "X_test= X_test.drop(columns=['index'])"
      ],
      "execution_count": null,
      "outputs": []
    },
    {
      "cell_type": "markdown",
      "metadata": {
        "id": "3homAQVbaWBd"
      },
      "source": [
        "## Task 3"
      ]
    },
    {
      "cell_type": "markdown",
      "metadata": {
        "id": "M3GISQkNaWBd"
      },
      "source": [
        "### Build any Machine Learning Model of your choice"
      ]
    },
    {
      "cell_type": "markdown",
      "metadata": {
        "id": "Wr_afV1wKW_y"
      },
      "source": [
        "Testing out a Linear Regression Model\r\n"
      ]
    },
    {
      "cell_type": "code",
      "metadata": {
        "colab": {
          "base_uri": "https://localhost:8080/"
        },
        "id": "JlNJAYvdaWBd",
        "outputId": "03cbcd36-0b20-425c-ace1-412a1e23a70f"
      },
      "source": [
        "from sklearn.linear_model import LinearRegression\r\n",
        "\r\n",
        "model = LinearRegression()\r\n",
        "\r\n",
        "model.fit(X_train, y_train)\r\n",
        "\r\n"
      ],
      "execution_count": null,
      "outputs": [
        {
          "output_type": "execute_result",
          "data": {
            "text/plain": [
              "LinearRegression(copy_X=True, fit_intercept=True, n_jobs=None, normalize=False)"
            ]
          },
          "metadata": {
            "tags": []
          },
          "execution_count": 33
        }
      ]
    },
    {
      "cell_type": "markdown",
      "metadata": {
        "id": "GlytbSbgaWBd"
      },
      "source": [
        "### Evaluate your model with various Evaluation Metrics"
      ]
    },
    {
      "cell_type": "code",
      "metadata": {
        "id": "Jju88gE3aWBe"
      },
      "source": [
        "y_test_pred = model.predict(X_test)"
      ],
      "execution_count": null,
      "outputs": []
    },
    {
      "cell_type": "code",
      "metadata": {
        "colab": {
          "base_uri": "https://localhost:8080/"
        },
        "id": "IqDzYSCkbr03",
        "outputId": "bff92e4e-f938-4644-f0d2-f63857ae84aa"
      },
      "source": [
        "MAE = mean_absolute_error(y_test, y_test_pred)\r\n",
        "MSE = mean_squared_error(y_test, y_test_pred)\r\n",
        "R2 =   r2_score(y_test, y_test_pred)\r\n",
        "\r\n",
        "print('LINEAR REGRESSION')\r\n",
        "print('The mean_absolute_error =  ' +str(MAE))\r\n",
        "print('The mean_squared_error =  ' +str(MSE))\r\n",
        "print('The r2_score =  ' +str(R2))\r\n"
      ],
      "execution_count": null,
      "outputs": [
        {
          "output_type": "stream",
          "text": [
            "LINEAR REGRESSION\n",
            "The mean_absolute_error =  14.073056727195\n",
            "The mean_squared_error =  346.4700930647792\n",
            "The r2_score =  0.5636654229655955\n"
          ],
          "name": "stdout"
        }
      ]
    },
    {
      "cell_type": "markdown",
      "metadata": {
        "id": "ZM1_hZ8PaWBe"
      },
      "source": [
        "### Try out other Machine Learning Models and Evaluate them"
      ]
    },
    {
      "cell_type": "markdown",
      "metadata": {
        "id": "tTUVSO3rec-v"
      },
      "source": [
        "Trying RANDOM FOREST REGRESSOR "
      ]
    },
    {
      "cell_type": "code",
      "metadata": {
        "colab": {
          "base_uri": "https://localhost:8080/"
        },
        "id": "WX8K9gDraWBe",
        "outputId": "7d88a760-a467-49c5-94f5-7e6456f0db36"
      },
      "source": [
        "forest = RandomForestRegressor(random_state=1)\r\n",
        " \r\n",
        "forest.fit(X_train, y_train)\r\n",
        "\r\n",
        "y_test_forest_pred = forest.predict(X_test)\r\n",
        "\r\n",
        "MAE_Forest = mean_absolute_error(y_test, y_test_forest_pred)\r\n",
        "MSE_Forest = mean_squared_error(y_test, y_test_forest_pred)\r\n",
        "R2_Forest =   r2_score(y_test, y_test_forest_pred)\r\n",
        "\r\n",
        "print('RANDOM FOREST REGRESSOR')\r\n",
        "print('The mean_absolute_error =  ' +str(MAE_Forest))\r\n",
        "print('The mean_squared_error =  ' +str(MSE_Forest))\r\n",
        "print('The r2_score =  ' +str(R2_Forest))\r\n",
        "\r\n"
      ],
      "execution_count": null,
      "outputs": [
        {
          "output_type": "stream",
          "text": [
            "RANDOM FOREST REGRESSOR\n",
            "The mean_absolute_error =  13.812192560175053\n",
            "The mean_squared_error =  362.451283811816\n",
            "The r2_score =  0.5435391660542647\n"
          ],
          "name": "stdout"
        }
      ]
    },
    {
      "cell_type": "markdown",
      "metadata": {
        "id": "ZDFYxw_JiAsl"
      },
      "source": [
        "Trying DECISION TREE REGRESSOR\r\n"
      ]
    },
    {
      "cell_type": "code",
      "metadata": {
        "colab": {
          "base_uri": "https://localhost:8080/"
        },
        "id": "Ce_8PDvIfucB",
        "outputId": "7b6f36de-476c-4131-fb7a-12439453e925"
      },
      "source": [
        "decision_tree = DecisionTreeRegressor(random_state = 1, max_depth = 5)\r\n",
        "\r\n",
        "decision_tree.fit(X_train,y_train)\r\n",
        "\r\n",
        "y_test_tree_pred = decision_tree.predict(X_test)\r\n",
        "\r\n",
        "MAE_Tree = mean_absolute_error(y_test, y_test_tree_pred)\r\n",
        "MSE_Tree = mean_squared_error(y_test, y_test_tree_pred)\r\n",
        "R2_Tree =   r2_score(y_test, y_test_tree_pred)\r\n",
        "\r\n",
        "print('DECISION TREE REGRESSOR')\r\n",
        "print('The mean_absolute_error =  ' +str(MAE_Tree))\r\n",
        "print('The mean_squared_error =  ' +str(MSE_Tree))\r\n",
        "print('The r2_score =  ' +str(R2_Tree))\r\n",
        "\r\n"
      ],
      "execution_count": null,
      "outputs": [
        {
          "output_type": "stream",
          "text": [
            "DECISION TREE REGRESSOR\n",
            "The mean_absolute_error =  16.17754962383259\n",
            "The mean_squared_error =  477.57219511328566\n",
            "The r2_score =  0.39855916591569496\n"
          ],
          "name": "stdout"
        }
      ]
    },
    {
      "cell_type": "markdown",
      "metadata": {
        "id": "Tocia6-3iVmB"
      },
      "source": [
        "Trying GRID SEARCH"
      ]
    },
    {
      "cell_type": "code",
      "metadata": {
        "colab": {
          "base_uri": "https://localhost:8080/"
        },
        "id": "NyR7MkSbhupf",
        "outputId": "5c550596-2b22-4e54-e6e7-7bab3222cceb"
      },
      "source": [
        "from sklearn.model_selection import GridSearchCV\r\n",
        "# Create the parameter grid based on the results of random search \r\n",
        "param_grid = {\r\n",
        "     'bootstrap': [True],\r\n",
        "     'max_depth': [10, 20],\r\n",
        "     'min_samples_leaf': [3, 4],\r\n",
        "     'min_samples_split': [4, 6],\r\n",
        "    'n_estimators': [100, 200]\r\n",
        "     }\r\n",
        "\r\n",
        "\r\n",
        "rf = RandomForestRegressor(random_state = 1)\r\n",
        "\r\n",
        "# Grid search cv\r\n",
        "grid_search = GridSearchCV(estimator = rf, param_grid = param_grid, \r\n",
        "                          cv = 2, n_jobs = -1, verbose = 2)\r\n",
        "\r\n",
        "grid_search.fit(X_train, y_train)\r\n",
        "\r\n",
        "y_test_gs_pred = grid_search.predict(X_test)\r\n",
        "\r\n",
        "MAE_gs = mean_absolute_error(y_test, y_test_gs_pred)\r\n",
        "MSE_gs = mean_squared_error(y_test, y_test_gs_pred)\r\n",
        "R2_gs =   r2_score(y_test, y_test_gs_pred)\r\n",
        "\r\n",
        "print('GRID SEARCHCV ')\r\n",
        "print('The mean_absolute_error =  ' +str(MAE_gs))\r\n",
        "print('The mean_squared_error =  ' +str(MSE_gs))\r\n",
        "print('The r2_score =  ' +str(R2_gs))\r\n"
      ],
      "execution_count": null,
      "outputs": [
        {
          "output_type": "stream",
          "text": [
            "Fitting 2 folds for each of 16 candidates, totalling 32 fits\n"
          ],
          "name": "stdout"
        },
        {
          "output_type": "stream",
          "text": [
            "[Parallel(n_jobs=-1)]: Using backend LokyBackend with 2 concurrent workers.\n",
            "[Parallel(n_jobs=-1)]: Done  32 out of  32 | elapsed:   42.7s finished\n"
          ],
          "name": "stderr"
        },
        {
          "output_type": "stream",
          "text": [
            "GRID SEARCHCV \n",
            "The mean_absolute_error =  13.903601445877326\n",
            "The mean_squared_error =  366.8143352324387\n",
            "The r2_score =  0.5380444632377627\n"
          ],
          "name": "stdout"
        }
      ]
    },
    {
      "cell_type": "markdown",
      "metadata": {
        "id": "eVHZUyJqaWBe"
      },
      "source": [
        "## Task 4"
      ]
    },
    {
      "cell_type": "markdown",
      "metadata": {
        "id": "HODz7FJtaWBe"
      },
      "source": [
        "### Perform Hyperparameter Tuning"
      ]
    },
    {
      "cell_type": "markdown",
      "metadata": {
        "id": "7UmIIBE-6zpg"
      },
      "source": [
        "Hyperparameter tuning on Random Forest model"
      ]
    },
    {
      "cell_type": "markdown",
      "metadata": {
        "id": "up_YYp-f7QLj"
      },
      "source": [
        ""
      ]
    },
    {
      "cell_type": "code",
      "metadata": {
        "colab": {
          "base_uri": "https://localhost:8080/"
        },
        "id": "CJOuMecmaWBe",
        "outputId": "49015a4f-503e-4660-fe0b-0ea6517284a3"
      },
      "source": [
        "# parameters in the initial Random Forest \r\n",
        "forest.get_params()"
      ],
      "execution_count": null,
      "outputs": [
        {
          "output_type": "execute_result",
          "data": {
            "text/plain": [
              "{'bootstrap': True,\n",
              " 'ccp_alpha': 0.0,\n",
              " 'criterion': 'mse',\n",
              " 'max_depth': None,\n",
              " 'max_features': 'auto',\n",
              " 'max_leaf_nodes': None,\n",
              " 'max_samples': None,\n",
              " 'min_impurity_decrease': 0.0,\n",
              " 'min_impurity_split': None,\n",
              " 'min_samples_leaf': 1,\n",
              " 'min_samples_split': 2,\n",
              " 'min_weight_fraction_leaf': 0.0,\n",
              " 'n_estimators': 100,\n",
              " 'n_jobs': None,\n",
              " 'oob_score': False,\n",
              " 'random_state': 1,\n",
              " 'verbose': 0,\n",
              " 'warm_start': False}"
            ]
          },
          "metadata": {
            "tags": []
          },
          "execution_count": 39
        }
      ]
    },
    {
      "cell_type": "code",
      "metadata": {
        "id": "tJWaB0ib7gjR"
      },
      "source": [
        "from sklearn.model_selection import RandomizedSearchCV\r\n",
        "# Number of trees in random forest\r\n",
        "n_estimators = [int(x) for x in np.linspace(start = 200, stop = 2000, num = 10)]\r\n",
        "# Number of features to consider at every split\r\n",
        "max_features = ['auto', 'sqrt']\r\n",
        "# Maximum number of levels in tree\r\n",
        "max_depth = [int(x) for x in np.linspace(10, 110, num = 11)]\r\n",
        "max_depth.append(None)\r\n",
        "# Minimum number of samples required to split a node\r\n",
        "min_samples_split = [2, 5, 10]\r\n",
        "# Minimum number of samples required at each leaf node\r\n",
        "min_samples_leaf = [1, 2, 4]\r\n",
        "# Method of selecting samples for training each tree\r\n",
        "bootstrap = [True, False]\r\n",
        "# Create the random grid\r\n",
        "random_grid = {'n_estimators': n_estimators,\r\n",
        "               'max_features': max_features,\r\n",
        "               'max_depth': max_depth,\r\n",
        "               'min_samples_split': min_samples_split,\r\n",
        "               'min_samples_leaf': min_samples_leaf,\r\n",
        "               'bootstrap': bootstrap}"
      ],
      "execution_count": null,
      "outputs": []
    },
    {
      "cell_type": "code",
      "metadata": {
        "colab": {
          "base_uri": "https://localhost:8080/"
        },
        "id": "T2s378Db73VI",
        "outputId": "2fcc90ba-b5b6-443d-f521-9f460b8cff69"
      },
      "source": [
        "# Use the random grid to search for best hyperparameters\r\n",
        "# First create the base model to tune\r\n",
        "forest_tuned = RandomForestRegressor()\r\n",
        "# Random search of parameters, using 3 fold cross validation, \r\n",
        "# search across 100 different combinations, and use all available cores\r\n",
        "forest_tuned_random = RandomizedSearchCV(estimator = forest_tuned, param_distributions = random_grid, n_iter = 100, cv = 3, verbose=2, random_state=42, n_jobs = -1)\r\n",
        "# Fit the random search model\r\n",
        "forest_tuned_random.fit(X_train,y_train)"
      ],
      "execution_count": null,
      "outputs": [
        {
          "output_type": "stream",
          "text": [
            "Fitting 3 folds for each of 100 candidates, totalling 300 fits\n"
          ],
          "name": "stdout"
        },
        {
          "output_type": "stream",
          "text": [
            "[Parallel(n_jobs=-1)]: Using backend LokyBackend with 2 concurrent workers.\n",
            "[Parallel(n_jobs=-1)]: Done  37 tasks      | elapsed:  7.0min\n",
            "[Parallel(n_jobs=-1)]: Done 158 tasks      | elapsed: 29.9min\n",
            "[Parallel(n_jobs=-1)]: Done 300 out of 300 | elapsed: 56.3min finished\n"
          ],
          "name": "stderr"
        },
        {
          "output_type": "execute_result",
          "data": {
            "text/plain": [
              "RandomizedSearchCV(cv=3, error_score=nan,\n",
              "                   estimator=RandomForestRegressor(bootstrap=True,\n",
              "                                                   ccp_alpha=0.0,\n",
              "                                                   criterion='mse',\n",
              "                                                   max_depth=None,\n",
              "                                                   max_features='auto',\n",
              "                                                   max_leaf_nodes=None,\n",
              "                                                   max_samples=None,\n",
              "                                                   min_impurity_decrease=0.0,\n",
              "                                                   min_impurity_split=None,\n",
              "                                                   min_samples_leaf=1,\n",
              "                                                   min_samples_split=2,\n",
              "                                                   min_weight_fraction_leaf=0.0,\n",
              "                                                   n_estimators=100,\n",
              "                                                   n_jobs=None, oob_score=Fals...\n",
              "                   param_distributions={'bootstrap': [True, False],\n",
              "                                        'max_depth': [10, 20, 30, 40, 50, 60,\n",
              "                                                      70, 80, 90, 100, 110,\n",
              "                                                      None],\n",
              "                                        'max_features': ['auto', 'sqrt'],\n",
              "                                        'min_samples_leaf': [1, 2, 4],\n",
              "                                        'min_samples_split': [2, 5, 10],\n",
              "                                        'n_estimators': [200, 400, 600, 800,\n",
              "                                                         1000, 1200, 1400, 1600,\n",
              "                                                         1800, 2000]},\n",
              "                   pre_dispatch='2*n_jobs', random_state=42, refit=True,\n",
              "                   return_train_score=False, scoring=None, verbose=2)"
            ]
          },
          "metadata": {
            "tags": []
          },
          "execution_count": 41
        }
      ]
    },
    {
      "cell_type": "code",
      "metadata": {
        "id": "uf200GT_8X2n",
        "colab": {
          "base_uri": "https://localhost:8080/"
        },
        "outputId": "917a51e2-19ea-42bd-9b5c-95a70f6cc3ee"
      },
      "source": [
        "# Best parameters after tuning\r\n",
        "forest_tuned_random.best_params_"
      ],
      "execution_count": null,
      "outputs": [
        {
          "output_type": "execute_result",
          "data": {
            "text/plain": [
              "{'bootstrap': True,\n",
              " 'max_depth': 90,\n",
              " 'max_features': 'auto',\n",
              " 'min_samples_leaf': 2,\n",
              " 'min_samples_split': 2,\n",
              " 'n_estimators': 2000}"
            ]
          },
          "metadata": {
            "tags": []
          },
          "execution_count": 42
        }
      ]
    },
    {
      "cell_type": "markdown",
      "metadata": {
        "id": "d28iH4_MaWBe"
      },
      "source": [
        "### Evaluate your model "
      ]
    },
    {
      "cell_type": "code",
      "metadata": {
        "id": "wKq_Rxl3aWBe",
        "colab": {
          "base_uri": "https://localhost:8080/"
        },
        "outputId": "3a9220b0-f553-4d81-c99a-169034b8d57f"
      },
      "source": [
        "def evaluate(model, test_features, test_labels):\r\n",
        "    predictions = model.predict(test_features)\r\n",
        "    errors = abs(predictions - test_labels)\r\n",
        "    mape = 100 * np.mean(errors / test_labels)\r\n",
        "    accuracy = 100 - mape\r\n",
        "    print('Model Performance')\r\n",
        "    print('Average Error: {:0.4f} degrees.'.format(np.mean(errors)))\r\n",
        "    print('Accuracy = {:0.2f}%.'.format(accuracy))\r\n",
        "    return accuracy\r\n",
        "\r\n",
        "forest = RandomForestRegressor(random_state=1)\r\n",
        "forest.fit(X_train, y_train)\r\n",
        "base_accuracy = evaluate(forest, X_test, y_test)\r\n",
        "\r\n",
        "best_random = forest_tuned_random.best_estimator_\r\n",
        "random_accuracy = evaluate(best_random, X_test, y_test)\r\n",
        "\r\n",
        "print('Improvement of {:0.2f}%.'.format( 100 * (random_accuracy - base_accuracy) / base_accuracy))\r\n"
      ],
      "execution_count": null,
      "outputs": [
        {
          "output_type": "stream",
          "text": [
            "Model Performance\n",
            "Average Error: 13.8122 degrees.\n",
            "Accuracy = 92.10%.\n",
            "Model Performance\n",
            "Average Error: 13.8015 degrees.\n",
            "Accuracy = 92.10%.\n",
            "Improvement of 0.01%.\n"
          ],
          "name": "stdout"
        }
      ]
    },
    {
      "cell_type": "markdown",
      "metadata": {
        "id": "psVszfmDaWBe"
      },
      "source": [
        "## Task 5"
      ]
    },
    {
      "cell_type": "markdown",
      "metadata": {
        "id": "ZB-XnSkSaWBe"
      },
      "source": [
        "### Use any Feature Selection Technique and observe if the model created by selected features performs better than the previous model"
      ]
    },
    {
      "cell_type": "markdown",
      "metadata": {
        "id": "Fa1N62F0E4uD"
      },
      "source": [
        "Using BORUTA FEATURE SELECTION"
      ]
    },
    {
      "cell_type": "code",
      "metadata": {
        "colab": {
          "base_uri": "https://localhost:8080/"
        },
        "id": "2mss1kwYYKIp",
        "outputId": "692fe281-0cd2-4a9f-bc60-6fce562b4ef2"
      },
      "source": [
        "!pip install boruta==0.3\r\n",
        "\r\n",
        "from boruta import BorutaPy"
      ],
      "execution_count": null,
      "outputs": [
        {
          "output_type": "stream",
          "text": [
            "Collecting boruta==0.3\n",
            "\u001b[?25l  Downloading https://files.pythonhosted.org/packages/b2/11/583f4eac99d802c79af9217e1eff56027742a69e6c866b295cce6a5a8fc2/Boruta-0.3-py3-none-any.whl (56kB)\n",
            "\r\u001b[K     |█████▉                          | 10kB 16.8MB/s eta 0:00:01\r\u001b[K     |███████████▋                    | 20kB 23.4MB/s eta 0:00:01\r\u001b[K     |█████████████████▍              | 30kB 22.0MB/s eta 0:00:01\r\u001b[K     |███████████████████████▏        | 40kB 15.3MB/s eta 0:00:01\r\u001b[K     |█████████████████████████████   | 51kB 16.9MB/s eta 0:00:01\r\u001b[K     |████████████████████████████████| 61kB 4.9MB/s \n",
            "\u001b[?25hRequirement already satisfied: scikit-learn>=0.17.1 in /usr/local/lib/python3.6/dist-packages (from boruta==0.3) (0.22.2.post1)\n",
            "Requirement already satisfied: numpy>=1.10.4 in /usr/local/lib/python3.6/dist-packages (from boruta==0.3) (1.19.4)\n",
            "Requirement already satisfied: scipy>=0.17.0 in /usr/local/lib/python3.6/dist-packages (from boruta==0.3) (1.4.1)\n",
            "Requirement already satisfied: joblib>=0.11 in /usr/local/lib/python3.6/dist-packages (from scikit-learn>=0.17.1->boruta==0.3) (1.0.0)\n",
            "Installing collected packages: boruta\n",
            "Successfully installed boruta-0.3\n"
          ],
          "name": "stdout"
        }
      ]
    },
    {
      "cell_type": "code",
      "metadata": {
        "id": "Tq9SRrQQKZUe",
        "colab": {
          "base_uri": "https://localhost:8080/"
        },
        "outputId": "e741c63c-deb4-457e-ecae-992120174340"
      },
      "source": [
        "# define Boruta feature selection method\r\n",
        "# boruta_selector = BorutaPy(forest, n_estimators='auto', verbose=2)\r\n",
        "boruta_selector = BorutaPy(best_random,  n_estimators='auto', verbose=2, random_state=1)\r\n",
        "\r\n",
        "# find all relevant features\r\n",
        "boruta_selector.fit(np.array(X_train), np.array(y_train))"
      ],
      "execution_count": null,
      "outputs": [
        {
          "output_type": "stream",
          "text": [
            "Iteration: \t1 / 100\n",
            "Confirmed: \t0\n",
            "Tentative: \t29\n",
            "Rejected: \t0\n",
            "Iteration: \t2 / 100\n",
            "Confirmed: \t0\n",
            "Tentative: \t29\n",
            "Rejected: \t0\n",
            "Iteration: \t3 / 100\n",
            "Confirmed: \t0\n",
            "Tentative: \t29\n",
            "Rejected: \t0\n",
            "Iteration: \t4 / 100\n",
            "Confirmed: \t0\n",
            "Tentative: \t29\n",
            "Rejected: \t0\n",
            "Iteration: \t5 / 100\n",
            "Confirmed: \t0\n",
            "Tentative: \t29\n",
            "Rejected: \t0\n",
            "Iteration: \t6 / 100\n",
            "Confirmed: \t0\n",
            "Tentative: \t29\n",
            "Rejected: \t0\n",
            "Iteration: \t7 / 100\n",
            "Confirmed: \t0\n",
            "Tentative: \t29\n",
            "Rejected: \t0\n",
            "Iteration: \t8 / 100\n",
            "Confirmed: \t10\n",
            "Tentative: \t14\n",
            "Rejected: \t5\n",
            "Iteration: \t9 / 100\n",
            "Confirmed: \t10\n",
            "Tentative: \t14\n",
            "Rejected: \t5\n",
            "Iteration: \t10 / 100\n",
            "Confirmed: \t10\n",
            "Tentative: \t14\n",
            "Rejected: \t5\n",
            "Iteration: \t11 / 100\n",
            "Confirmed: \t10\n",
            "Tentative: \t14\n",
            "Rejected: \t5\n",
            "Iteration: \t12 / 100\n",
            "Confirmed: \t12\n",
            "Tentative: \t12\n",
            "Rejected: \t5\n",
            "Iteration: \t13 / 100\n",
            "Confirmed: \t12\n",
            "Tentative: \t12\n",
            "Rejected: \t5\n",
            "Iteration: \t14 / 100\n",
            "Confirmed: \t12\n",
            "Tentative: \t12\n",
            "Rejected: \t5\n",
            "Iteration: \t15 / 100\n",
            "Confirmed: \t12\n",
            "Tentative: \t12\n",
            "Rejected: \t5\n",
            "Iteration: \t16 / 100\n",
            "Confirmed: \t12\n",
            "Tentative: \t12\n",
            "Rejected: \t5\n",
            "Iteration: \t17 / 100\n",
            "Confirmed: \t12\n",
            "Tentative: \t12\n",
            "Rejected: \t5\n",
            "Iteration: \t18 / 100\n",
            "Confirmed: \t12\n",
            "Tentative: \t12\n",
            "Rejected: \t5\n",
            "Iteration: \t19 / 100\n",
            "Confirmed: \t13\n",
            "Tentative: \t9\n",
            "Rejected: \t7\n",
            "Iteration: \t20 / 100\n",
            "Confirmed: \t13\n",
            "Tentative: \t9\n",
            "Rejected: \t7\n",
            "Iteration: \t21 / 100\n",
            "Confirmed: \t13\n",
            "Tentative: \t9\n",
            "Rejected: \t7\n",
            "Iteration: \t22 / 100\n",
            "Confirmed: \t13\n",
            "Tentative: \t9\n",
            "Rejected: \t7\n",
            "Iteration: \t23 / 100\n",
            "Confirmed: \t13\n",
            "Tentative: \t9\n",
            "Rejected: \t7\n",
            "Iteration: \t24 / 100\n",
            "Confirmed: \t13\n",
            "Tentative: \t9\n",
            "Rejected: \t7\n",
            "Iteration: \t25 / 100\n",
            "Confirmed: \t13\n",
            "Tentative: \t9\n",
            "Rejected: \t7\n",
            "Iteration: \t26 / 100\n",
            "Confirmed: \t13\n",
            "Tentative: \t9\n",
            "Rejected: \t7\n",
            "Iteration: \t27 / 100\n",
            "Confirmed: \t13\n",
            "Tentative: \t9\n",
            "Rejected: \t7\n",
            "Iteration: \t28 / 100\n",
            "Confirmed: \t13\n",
            "Tentative: \t9\n",
            "Rejected: \t7\n",
            "Iteration: \t29 / 100\n",
            "Confirmed: \t13\n",
            "Tentative: \t8\n",
            "Rejected: \t8\n",
            "Iteration: \t30 / 100\n",
            "Confirmed: \t13\n",
            "Tentative: \t8\n",
            "Rejected: \t8\n",
            "Iteration: \t31 / 100\n",
            "Confirmed: \t13\n",
            "Tentative: \t8\n",
            "Rejected: \t8\n",
            "Iteration: \t32 / 100\n",
            "Confirmed: \t13\n",
            "Tentative: \t7\n",
            "Rejected: \t9\n",
            "Iteration: \t33 / 100\n",
            "Confirmed: \t13\n",
            "Tentative: \t7\n",
            "Rejected: \t9\n",
            "Iteration: \t34 / 100\n",
            "Confirmed: \t13\n",
            "Tentative: \t6\n",
            "Rejected: \t10\n",
            "Iteration: \t35 / 100\n",
            "Confirmed: \t13\n",
            "Tentative: \t6\n",
            "Rejected: \t10\n",
            "Iteration: \t36 / 100\n",
            "Confirmed: \t13\n",
            "Tentative: \t6\n",
            "Rejected: \t10\n",
            "Iteration: \t37 / 100\n",
            "Confirmed: \t13\n",
            "Tentative: \t6\n",
            "Rejected: \t10\n",
            "Iteration: \t38 / 100\n",
            "Confirmed: \t13\n",
            "Tentative: \t6\n",
            "Rejected: \t10\n",
            "Iteration: \t39 / 100\n",
            "Confirmed: \t13\n",
            "Tentative: \t6\n",
            "Rejected: \t10\n",
            "Iteration: \t40 / 100\n",
            "Confirmed: \t13\n",
            "Tentative: \t6\n",
            "Rejected: \t10\n",
            "Iteration: \t41 / 100\n",
            "Confirmed: \t13\n",
            "Tentative: \t6\n",
            "Rejected: \t10\n",
            "Iteration: \t42 / 100\n",
            "Confirmed: \t13\n",
            "Tentative: \t6\n",
            "Rejected: \t10\n",
            "Iteration: \t43 / 100\n",
            "Confirmed: \t13\n",
            "Tentative: \t6\n",
            "Rejected: \t10\n",
            "Iteration: \t44 / 100\n",
            "Confirmed: \t13\n",
            "Tentative: \t6\n",
            "Rejected: \t10\n",
            "Iteration: \t45 / 100\n",
            "Confirmed: \t13\n",
            "Tentative: \t6\n",
            "Rejected: \t10\n",
            "Iteration: \t46 / 100\n",
            "Confirmed: \t13\n",
            "Tentative: \t6\n",
            "Rejected: \t10\n",
            "Iteration: \t47 / 100\n",
            "Confirmed: \t13\n",
            "Tentative: \t6\n",
            "Rejected: \t10\n",
            "Iteration: \t48 / 100\n",
            "Confirmed: \t13\n",
            "Tentative: \t6\n",
            "Rejected: \t10\n",
            "Iteration: \t49 / 100\n",
            "Confirmed: \t13\n",
            "Tentative: \t6\n",
            "Rejected: \t10\n",
            "Iteration: \t50 / 100\n",
            "Confirmed: \t13\n",
            "Tentative: \t6\n",
            "Rejected: \t10\n",
            "Iteration: \t51 / 100\n",
            "Confirmed: \t13\n",
            "Tentative: \t6\n",
            "Rejected: \t10\n",
            "Iteration: \t52 / 100\n",
            "Confirmed: \t13\n",
            "Tentative: \t6\n",
            "Rejected: \t10\n",
            "Iteration: \t53 / 100\n",
            "Confirmed: \t13\n",
            "Tentative: \t6\n",
            "Rejected: \t10\n",
            "Iteration: \t54 / 100\n",
            "Confirmed: \t13\n",
            "Tentative: \t6\n",
            "Rejected: \t10\n",
            "Iteration: \t55 / 100\n",
            "Confirmed: \t13\n",
            "Tentative: \t6\n",
            "Rejected: \t10\n",
            "Iteration: \t56 / 100\n",
            "Confirmed: \t13\n",
            "Tentative: \t6\n",
            "Rejected: \t10\n",
            "Iteration: \t57 / 100\n",
            "Confirmed: \t13\n",
            "Tentative: \t6\n",
            "Rejected: \t10\n",
            "Iteration: \t58 / 100\n",
            "Confirmed: \t13\n",
            "Tentative: \t6\n",
            "Rejected: \t10\n",
            "Iteration: \t59 / 100\n",
            "Confirmed: \t13\n",
            "Tentative: \t6\n",
            "Rejected: \t10\n",
            "Iteration: \t60 / 100\n",
            "Confirmed: \t13\n",
            "Tentative: \t6\n",
            "Rejected: \t10\n",
            "Iteration: \t61 / 100\n",
            "Confirmed: \t13\n",
            "Tentative: \t6\n",
            "Rejected: \t10\n",
            "Iteration: \t62 / 100\n",
            "Confirmed: \t13\n",
            "Tentative: \t6\n",
            "Rejected: \t10\n",
            "Iteration: \t63 / 100\n",
            "Confirmed: \t13\n",
            "Tentative: \t6\n",
            "Rejected: \t10\n",
            "Iteration: \t64 / 100\n",
            "Confirmed: \t13\n",
            "Tentative: \t6\n",
            "Rejected: \t10\n",
            "Iteration: \t65 / 100\n",
            "Confirmed: \t13\n",
            "Tentative: \t5\n",
            "Rejected: \t11\n",
            "Iteration: \t66 / 100\n",
            "Confirmed: \t13\n",
            "Tentative: \t5\n",
            "Rejected: \t11\n",
            "Iteration: \t67 / 100\n",
            "Confirmed: \t13\n",
            "Tentative: \t5\n",
            "Rejected: \t11\n",
            "Iteration: \t68 / 100\n",
            "Confirmed: \t13\n",
            "Tentative: \t5\n",
            "Rejected: \t11\n",
            "Iteration: \t69 / 100\n",
            "Confirmed: \t13\n",
            "Tentative: \t5\n",
            "Rejected: \t11\n",
            "Iteration: \t70 / 100\n",
            "Confirmed: \t13\n",
            "Tentative: \t5\n",
            "Rejected: \t11\n",
            "Iteration: \t71 / 100\n",
            "Confirmed: \t13\n",
            "Tentative: \t5\n",
            "Rejected: \t11\n",
            "Iteration: \t72 / 100\n",
            "Confirmed: \t14\n",
            "Tentative: \t4\n",
            "Rejected: \t11\n",
            "Iteration: \t73 / 100\n",
            "Confirmed: \t14\n",
            "Tentative: \t4\n",
            "Rejected: \t11\n",
            "Iteration: \t74 / 100\n",
            "Confirmed: \t14\n",
            "Tentative: \t4\n",
            "Rejected: \t11\n",
            "Iteration: \t75 / 100\n",
            "Confirmed: \t14\n",
            "Tentative: \t4\n",
            "Rejected: \t11\n",
            "Iteration: \t76 / 100\n",
            "Confirmed: \t14\n",
            "Tentative: \t4\n",
            "Rejected: \t11\n",
            "Iteration: \t77 / 100\n",
            "Confirmed: \t14\n",
            "Tentative: \t4\n",
            "Rejected: \t11\n",
            "Iteration: \t78 / 100\n",
            "Confirmed: \t14\n",
            "Tentative: \t4\n",
            "Rejected: \t11\n",
            "Iteration: \t79 / 100\n",
            "Confirmed: \t14\n",
            "Tentative: \t4\n",
            "Rejected: \t11\n",
            "Iteration: \t80 / 100\n",
            "Confirmed: \t14\n",
            "Tentative: \t4\n",
            "Rejected: \t11\n",
            "Iteration: \t81 / 100\n",
            "Confirmed: \t14\n",
            "Tentative: \t4\n",
            "Rejected: \t11\n",
            "Iteration: \t82 / 100\n",
            "Confirmed: \t14\n",
            "Tentative: \t4\n",
            "Rejected: \t11\n",
            "Iteration: \t83 / 100\n",
            "Confirmed: \t14\n",
            "Tentative: \t4\n",
            "Rejected: \t11\n",
            "Iteration: \t84 / 100\n",
            "Confirmed: \t14\n",
            "Tentative: \t4\n",
            "Rejected: \t11\n",
            "Iteration: \t85 / 100\n",
            "Confirmed: \t14\n",
            "Tentative: \t4\n",
            "Rejected: \t11\n",
            "Iteration: \t86 / 100\n",
            "Confirmed: \t14\n",
            "Tentative: \t4\n",
            "Rejected: \t11\n",
            "Iteration: \t87 / 100\n",
            "Confirmed: \t14\n",
            "Tentative: \t4\n",
            "Rejected: \t11\n",
            "Iteration: \t88 / 100\n",
            "Confirmed: \t14\n",
            "Tentative: \t4\n",
            "Rejected: \t11\n",
            "Iteration: \t89 / 100\n",
            "Confirmed: \t14\n",
            "Tentative: \t4\n",
            "Rejected: \t11\n",
            "Iteration: \t90 / 100\n",
            "Confirmed: \t14\n",
            "Tentative: \t4\n",
            "Rejected: \t11\n",
            "Iteration: \t91 / 100\n",
            "Confirmed: \t14\n",
            "Tentative: \t4\n",
            "Rejected: \t11\n",
            "Iteration: \t92 / 100\n",
            "Confirmed: \t14\n",
            "Tentative: \t4\n",
            "Rejected: \t11\n",
            "Iteration: \t93 / 100\n",
            "Confirmed: \t15\n",
            "Tentative: \t3\n",
            "Rejected: \t11\n",
            "Iteration: \t94 / 100\n",
            "Confirmed: \t15\n",
            "Tentative: \t3\n",
            "Rejected: \t11\n",
            "Iteration: \t95 / 100\n",
            "Confirmed: \t15\n",
            "Tentative: \t3\n",
            "Rejected: \t11\n",
            "Iteration: \t96 / 100\n",
            "Confirmed: \t15\n",
            "Tentative: \t3\n",
            "Rejected: \t11\n",
            "Iteration: \t97 / 100\n",
            "Confirmed: \t15\n",
            "Tentative: \t3\n",
            "Rejected: \t11\n",
            "Iteration: \t98 / 100\n",
            "Confirmed: \t15\n",
            "Tentative: \t3\n",
            "Rejected: \t11\n",
            "Iteration: \t99 / 100\n",
            "Confirmed: \t15\n",
            "Tentative: \t3\n",
            "Rejected: \t11\n",
            "\n",
            "\n",
            "BorutaPy finished running.\n",
            "\n",
            "Iteration: \t100 / 100\n",
            "Confirmed: \t15\n",
            "Tentative: \t3\n",
            "Rejected: \t11\n"
          ],
          "name": "stdout"
        },
        {
          "output_type": "execute_result",
          "data": {
            "text/plain": [
              "BorutaPy(alpha=0.05,\n",
              "         estimator=RandomForestRegressor(bootstrap=True, ccp_alpha=0.0,\n",
              "                                         criterion='mse', max_depth=90,\n",
              "                                         max_features='auto',\n",
              "                                         max_leaf_nodes=None, max_samples=None,\n",
              "                                         min_impurity_decrease=0.0,\n",
              "                                         min_impurity_split=None,\n",
              "                                         min_samples_leaf=2,\n",
              "                                         min_samples_split=2,\n",
              "                                         min_weight_fraction_leaf=0.0,\n",
              "                                         n_estimators=6, n_jobs=None,\n",
              "                                         oob_score=False,\n",
              "                                         random_state=RandomState(MT19937) at 0x7EFEE87C9CA8,\n",
              "                                         verbose=0, warm_start=False),\n",
              "         max_iter=100, n_estimators='auto', perc=100,\n",
              "         random_state=RandomState(MT19937) at 0x7EFEE87C9CA8, two_step=True,\n",
              "         verbose=2)"
            ]
          },
          "metadata": {
            "tags": []
          },
          "execution_count": 49
        }
      ]
    },
    {
      "cell_type": "code",
      "metadata": {
        "id": "8_HaCWLcEm72",
        "colab": {
          "base_uri": "https://localhost:8080/"
        },
        "outputId": "a315d4d6-14ae-4e0b-b514-2adb6c84a516"
      },
      "source": [
        "print(\"No. of significant features: \", boruta_selector.n_features_)"
      ],
      "execution_count": null,
      "outputs": [
        {
          "output_type": "stream",
          "text": [
            "No. of significant features:  15\n"
          ],
          "name": "stdout"
        }
      ]
    },
    {
      "cell_type": "code",
      "metadata": {
        "id": "5JZJC9aPaWBe"
      },
      "source": [
        "X_important_train = boruta_selector.transform(np.array(X_train))\r\n",
        "X_important_test = boruta_selector.transform(np.array(X_test))"
      ],
      "execution_count": null,
      "outputs": []
    },
    {
      "cell_type": "code",
      "metadata": {
        "id": "aTeVWde0E3HE",
        "colab": {
          "base_uri": "https://localhost:8080/"
        },
        "outputId": "da2a1944-d063-43aa-c92e-ef3c7571cc92"
      },
      "source": [
        "best_random.fit(X_important_train,y_train)"
      ],
      "execution_count": null,
      "outputs": [
        {
          "output_type": "execute_result",
          "data": {
            "text/plain": [
              "RandomForestRegressor(bootstrap=True, ccp_alpha=0.0, criterion='mse',\n",
              "                      max_depth=90, max_features='auto', max_leaf_nodes=None,\n",
              "                      max_samples=None, min_impurity_decrease=0.0,\n",
              "                      min_impurity_split=None, min_samples_leaf=2,\n",
              "                      min_samples_split=2, min_weight_fraction_leaf=0.0,\n",
              "                      n_estimators=6, n_jobs=None, oob_score=False,\n",
              "                      random_state=RandomState(MT19937) at 0x7EFEE87C9CA8,\n",
              "                      verbose=0, warm_start=False)"
            ]
          },
          "metadata": {
            "tags": []
          },
          "execution_count": 52
        }
      ]
    },
    {
      "cell_type": "code",
      "metadata": {
        "id": "PH9EZK0xFt1M"
      },
      "source": [
        "y_important_test_pred = best_random.predict(X_important_test)"
      ],
      "execution_count": null,
      "outputs": []
    },
    {
      "cell_type": "markdown",
      "metadata": {
        "id": "og_wBEI0F9tx"
      },
      "source": [
        "Model Evaluation"
      ]
    },
    {
      "cell_type": "code",
      "metadata": {
        "id": "t7D4AZnzGDIY",
        "colab": {
          "base_uri": "https://localhost:8080/"
        },
        "outputId": "510c188d-adcb-4c70-bb19-3401f84ea22b"
      },
      "source": [
        "MAE_tuned = mean_absolute_error(y_test, y_important_test_pred)\r\n",
        "MSE_tuned = mean_squared_error(y_test, y_important_test_pred)\r\n",
        "R2_tuned =   r2_score(y_test, y_important_test_pred)\r\n",
        "\r\n",
        "print('RANDOM FO SEARCHCV ')\r\n",
        "print('The mean_absolute_error =  ' +str(MAE_tuned))\r\n",
        "print('The mean_squared_error =  ' +str(MSE_tuned))\r\n",
        "print('The r2_score =  ' +str(R2_tuned))"
      ],
      "execution_count": null,
      "outputs": [
        {
          "output_type": "stream",
          "text": [
            "RANDOM FO SEARCHCV \n",
            "The mean_absolute_error =  15.207922618652924\n",
            "The mean_squared_error =  426.8097393570127\n",
            "The r2_score =  0.4624879583425201\n"
          ],
          "name": "stdout"
        }
      ]
    },
    {
      "cell_type": "code",
      "metadata": {
        "id": "y3MvPt1IZ0aW"
      },
      "source": [
        "test_data = pd.read_csv('https://raw.githubusercontent.com/dphi-official/Datasets/master/cancer_death_rate/Testing_set_label.csv')"
      ],
      "execution_count": null,
      "outputs": []
    },
    {
      "cell_type": "code",
      "metadata": {
        "colab": {
          "base_uri": "https://localhost:8080/"
        },
        "id": "EZgktObOZ9jG",
        "outputId": "9a97ecb4-027b-44b8-a40d-8aa4ba528f4c"
      },
      "source": [
        "test_data.info()"
      ],
      "execution_count": null,
      "outputs": [
        {
          "output_type": "stream",
          "text": [
            "<class 'pandas.core.frame.DataFrame'>\n",
            "RangeIndex: 762 entries, 0 to 761\n",
            "Data columns (total 33 columns):\n",
            " #   Column                   Non-Null Count  Dtype  \n",
            "---  ------                   --------------  -----  \n",
            " 0   avgAnnCount              762 non-null    float64\n",
            " 1   avgDeathsPerYear         762 non-null    int64  \n",
            " 2   incidenceRate            762 non-null    float64\n",
            " 3   medIncome                762 non-null    int64  \n",
            " 4   popEst2015               762 non-null    int64  \n",
            " 5   povertyPercent           762 non-null    float64\n",
            " 6   studyPerCap              762 non-null    float64\n",
            " 7   binnedInc                762 non-null    object \n",
            " 8   MedianAge                762 non-null    float64\n",
            " 9   MedianAgeMale            762 non-null    float64\n",
            " 10  MedianAgeFemale          762 non-null    float64\n",
            " 11  Geography                762 non-null    object \n",
            " 12  AvgHouseholdSize         762 non-null    float64\n",
            " 13  PercentMarried           762 non-null    float64\n",
            " 14  PctNoHS18_24             762 non-null    float64\n",
            " 15  PctHS18_24               762 non-null    float64\n",
            " 16  PctSomeCol18_24          182 non-null    float64\n",
            " 17  PctBachDeg18_24          762 non-null    float64\n",
            " 18  PctHS25_Over             762 non-null    float64\n",
            " 19  PctBachDeg25_Over        762 non-null    float64\n",
            " 20  PctEmployed16_Over       729 non-null    float64\n",
            " 21  PctUnemployed16_Over     762 non-null    float64\n",
            " 22  PctPrivateCoverage       762 non-null    float64\n",
            " 23  PctPrivateCoverageAlone  614 non-null    float64\n",
            " 24  PctEmpPrivCoverage       762 non-null    float64\n",
            " 25  PctPublicCoverage        762 non-null    float64\n",
            " 26  PctPublicCoverageAlone   762 non-null    float64\n",
            " 27  PctWhite                 762 non-null    float64\n",
            " 28  PctBlack                 762 non-null    float64\n",
            " 29  PctAsian                 762 non-null    float64\n",
            " 30  PctOtherRace             762 non-null    float64\n",
            " 31  PctMarriedHouseholds     762 non-null    float64\n",
            " 32  BirthRate                762 non-null    float64\n",
            "dtypes: float64(28), int64(3), object(2)\n",
            "memory usage: 196.6+ KB\n"
          ],
          "name": "stdout"
        }
      ]
    },
    {
      "cell_type": "code",
      "metadata": {
        "id": "VSyBymU-aXc5"
      },
      "source": [
        "test_data= test_data.drop(columns=['binnedInc', 'Geography','PctSomeCol18_24','PctPrivateCoverageAlone'])"
      ],
      "execution_count": null,
      "outputs": []
    },
    {
      "cell_type": "code",
      "metadata": {
        "colab": {
          "base_uri": "https://localhost:8080/"
        },
        "id": "816WgGNuaLMs",
        "outputId": "59c26be4-fce5-46aa-8655-f4ba0acc5ce4"
      },
      "source": [
        "test_data.isnull().sum()"
      ],
      "execution_count": null,
      "outputs": [
        {
          "output_type": "execute_result",
          "data": {
            "text/plain": [
              "avgAnnCount                0\n",
              "avgDeathsPerYear           0\n",
              "incidenceRate              0\n",
              "medIncome                  0\n",
              "popEst2015                 0\n",
              "povertyPercent             0\n",
              "studyPerCap                0\n",
              "MedianAge                  0\n",
              "MedianAgeMale              0\n",
              "MedianAgeFemale            0\n",
              "AvgHouseholdSize           0\n",
              "PercentMarried             0\n",
              "PctNoHS18_24               0\n",
              "PctHS18_24                 0\n",
              "PctBachDeg18_24            0\n",
              "PctHS25_Over               0\n",
              "PctBachDeg25_Over          0\n",
              "PctEmployed16_Over        33\n",
              "PctUnemployed16_Over       0\n",
              "PctPrivateCoverage         0\n",
              "PctEmpPrivCoverage         0\n",
              "PctPublicCoverage          0\n",
              "PctPublicCoverageAlone     0\n",
              "PctWhite                   0\n",
              "PctBlack                   0\n",
              "PctAsian                   0\n",
              "PctOtherRace               0\n",
              "PctMarriedHouseholds       0\n",
              "BirthRate                  0\n",
              "dtype: int64"
            ]
          },
          "metadata": {
            "tags": []
          },
          "execution_count": 60
        }
      ]
    },
    {
      "cell_type": "code",
      "metadata": {
        "id": "jC8fGjpNbGBW"
      },
      "source": [
        "test_data['PctEmployed16_Over'].fillna((test_data['PctEmployed16_Over'].mean()), inplace=True)"
      ],
      "execution_count": null,
      "outputs": []
    },
    {
      "cell_type": "code",
      "metadata": {
        "id": "kHMqoPZgb0np"
      },
      "source": [
        "# test_important_data = boruta_selector.transform(np.array(test_data))"
      ],
      "execution_count": null,
      "outputs": []
    },
    {
      "cell_type": "code",
      "metadata": {
        "id": "VaiCG2aGbf6Y"
      },
      "source": [
        "# best_random.fit(X_train,y_train)\r\n",
        "predictions = grid_search.predict(test_data)"
      ],
      "execution_count": null,
      "outputs": []
    },
    {
      "cell_type": "code",
      "metadata": {
        "id": "L0EJVkUJeODF"
      },
      "source": [
        ""
      ],
      "execution_count": null,
      "outputs": []
    },
    {
      "cell_type": "code",
      "metadata": {
        "colab": {
          "base_uri": "https://localhost:8080/",
          "height": 17
        },
        "id": "1NQug9gicDad",
        "outputId": "b2eb08d5-e3c2-4b33-d5cf-88ee56497037"
      },
      "source": [
        "# To create Dataframe of predicted value with particular respective index\r\n",
        "res = pd.DataFrame(predictions) #preditcions are nothing but the final predictions of your model on input features of your new unseen test data\r\n",
        "res.index = test_data.index # its important for comparison. Here \"test_new\" is your new test dataset\r\n",
        "res.columns = [\"prediction\"]\r\n",
        "# To download the csv file locally\r\n",
        "from google.colab import files\r\n",
        "res.to_csv('prediction_results.csv',index=False)         \r\n",
        "files.download('prediction_results.csv')"
      ],
      "execution_count": null,
      "outputs": [
        {
          "output_type": "display_data",
          "data": {
            "application/javascript": [
              "\n",
              "    async function download(id, filename, size) {\n",
              "      if (!google.colab.kernel.accessAllowed) {\n",
              "        return;\n",
              "      }\n",
              "      const div = document.createElement('div');\n",
              "      const label = document.createElement('label');\n",
              "      label.textContent = `Downloading \"${filename}\": `;\n",
              "      div.appendChild(label);\n",
              "      const progress = document.createElement('progress');\n",
              "      progress.max = size;\n",
              "      div.appendChild(progress);\n",
              "      document.body.appendChild(div);\n",
              "\n",
              "      const buffers = [];\n",
              "      let downloaded = 0;\n",
              "\n",
              "      const channel = await google.colab.kernel.comms.open(id);\n",
              "      // Send a message to notify the kernel that we're ready.\n",
              "      channel.send({})\n",
              "\n",
              "      for await (const message of channel.messages) {\n",
              "        // Send a message to notify the kernel that we're ready.\n",
              "        channel.send({})\n",
              "        if (message.buffers) {\n",
              "          for (const buffer of message.buffers) {\n",
              "            buffers.push(buffer);\n",
              "            downloaded += buffer.byteLength;\n",
              "            progress.value = downloaded;\n",
              "          }\n",
              "        }\n",
              "      }\n",
              "      const blob = new Blob(buffers, {type: 'application/binary'});\n",
              "      const a = document.createElement('a');\n",
              "      a.href = window.URL.createObjectURL(blob);\n",
              "      a.download = filename;\n",
              "      div.appendChild(a);\n",
              "      a.click();\n",
              "      div.remove();\n",
              "    }\n",
              "  "
            ],
            "text/plain": [
              "<IPython.core.display.Javascript object>"
            ]
          },
          "metadata": {
            "tags": []
          }
        },
        {
          "output_type": "display_data",
          "data": {
            "application/javascript": [
              "download(\"download_5e117c6b-6063-4c0f-b265-07474f59716c\", \"prediction_results.csv\", 14243)"
            ],
            "text/plain": [
              "<IPython.core.display.Javascript object>"
            ]
          },
          "metadata": {
            "tags": []
          }
        }
      ]
    },
    {
      "cell_type": "markdown",
      "metadata": {
        "id": "sF6AvaVobFqG"
      },
      "source": [
        ""
      ]
    },
    {
      "cell_type": "markdown",
      "metadata": {
        "id": "Px3-FQRzaWBe"
      },
      "source": [
        "That is the end of this assignment. We hope you learnt a lot along the way. \n",
        "Make sure you complete the other 2 parts (leaderboard submission and quiz) as well.\n",
        "\n",
        "Now, download this notebook and submit it on the platform: https://dphi.tech/practice/challenge/52#notebooks \n"
      ]
    }
  ]
}