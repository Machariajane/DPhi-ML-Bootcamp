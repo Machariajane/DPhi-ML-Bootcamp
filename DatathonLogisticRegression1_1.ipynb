{
  "nbformat": 4,
  "nbformat_minor": 0,
  "metadata": {
    "colab": {
      "name": "DatathonLogisticRegression1.1.ipynb",
      "provenance": [],
      "collapsed_sections": [],
      "authorship_tag": "ABX9TyPgso213YhMUIDTVYd3/CNM",
      "include_colab_link": true
    },
    "kernelspec": {
      "name": "python3",
      "display_name": "Python 3"
    }
  },
  "cells": [
    {
      "cell_type": "markdown",
      "metadata": {
        "id": "view-in-github",
        "colab_type": "text"
      },
      "source": [
        "<a href=\"https://colab.research.google.com/github/Machariajane/Dphi-ML-Bootcamp/blob/main/DatathonLogisticRegression1_1.ipynb\" target=\"_parent\"><img src=\"https://colab.research.google.com/assets/colab-badge.svg\" alt=\"Open In Colab\"/></a>"
      ]
    },
    {
      "cell_type": "code",
      "metadata": {
        "id": "q5qLZfz_R0Ag"
      },
      "source": [
        "import pandas as pd\r\n",
        "import numpy as np\r\n",
        "import seaborn as sns\r\n",
        "from sklearn.model_selection import train_test_split\r\n",
        "from sklearn.linear_model import LogisticRegression\r\n",
        "from sklearn.preprocessing import LabelEncoder\r\n",
        "import warnings\r\n",
        "warnings.filterwarnings(\"ignore\")\r\n",
        "\r\n",
        "import statsmodels.api as sm\r\n",
        "import scipy.stats as st\r\n",
        "import matplotlib.pyplot as plt\r\n",
        "\r\n",
        "from sklearn.metrics import confusion_matrix\r\n",
        "import matplotlib.mlab as mlab\r\n",
        "%matplotlib inline"
      ],
      "execution_count": null,
      "outputs": []
    },
    {
      "cell_type": "code",
      "metadata": {
        "id": "VQqq2LF3Qf_h"
      },
      "source": [
        "tax_data  = pd.read_csv(\"https://raw.githubusercontent.com/dphi-official/Datasets/master/tax_payers/train_set_label.csv\" )"
      ],
      "execution_count": null,
      "outputs": []
    },
    {
      "cell_type": "code",
      "metadata": {
        "id": "4cmD0F8VQxWb",
        "colab": {
          "base_uri": "https://localhost:8080/"
        },
        "outputId": "0d8dafc1-b2d1-403b-960c-0ca2f2009ec7"
      },
      "source": [
        "tax_data.info()"
      ],
      "execution_count": null,
      "outputs": [
        {
          "output_type": "stream",
          "text": [
            "<class 'pandas.core.frame.DataFrame'>\n",
            "RangeIndex: 803 entries, 0 to 802\n",
            "Data columns (total 11 columns):\n",
            " #   Column          Non-Null Count  Dtype \n",
            "---  ------          --------------  ----- \n",
            " 0   Unnamed: 0      803 non-null    int64 \n",
            " 1   HHI             803 non-null    int64 \n",
            " 2   HHDL            803 non-null    int64 \n",
            " 3   Married         803 non-null    int64 \n",
            " 4   CollegGrads     803 non-null    int64 \n",
            " 5   AHHAge          803 non-null    int64 \n",
            " 6   Cars            803 non-null    int64 \n",
            " 7   Filed in 2017   803 non-null    int64 \n",
            " 8   Filed in 2016   803 non-null    int64 \n",
            " 9   Filed in 2015   803 non-null    int64 \n",
            " 10  PoliticalParty  803 non-null    object\n",
            "dtypes: int64(10), object(1)\n",
            "memory usage: 69.1+ KB\n"
          ],
          "name": "stdout"
        }
      ]
    },
    {
      "cell_type": "code",
      "metadata": {
        "colab": {
          "base_uri": "https://localhost:8080/"
        },
        "id": "UPBriiSp2s7T",
        "outputId": "57323f12-d47c-41fa-91d5-b5ef9ca66ad1"
      },
      "source": [
        "tax_data.isnull().sum()"
      ],
      "execution_count": null,
      "outputs": [
        {
          "output_type": "execute_result",
          "data": {
            "text/plain": [
              "Unnamed: 0        0\n",
              "HHI               0\n",
              "HHDL              0\n",
              "Married           0\n",
              "CollegGrads       0\n",
              "AHHAge            0\n",
              "Cars              0\n",
              "Filed in 2017     0\n",
              "Filed in 2016     0\n",
              "Filed in 2015     0\n",
              "PoliticalParty    0\n",
              "dtype: int64"
            ]
          },
          "metadata": {
            "tags": []
          },
          "execution_count": 180
        }
      ]
    },
    {
      "cell_type": "code",
      "metadata": {
        "colab": {
          "base_uri": "https://localhost:8080/",
          "height": 204
        },
        "id": "sVy36eM4Q31n",
        "outputId": "0d498ed6-8697-4f82-d90d-7fc83e4af312"
      },
      "source": [
        "tax_data.head()"
      ],
      "execution_count": null,
      "outputs": [
        {
          "output_type": "execute_result",
          "data": {
            "text/html": [
              "<div>\n",
              "<style scoped>\n",
              "    .dataframe tbody tr th:only-of-type {\n",
              "        vertical-align: middle;\n",
              "    }\n",
              "\n",
              "    .dataframe tbody tr th {\n",
              "        vertical-align: top;\n",
              "    }\n",
              "\n",
              "    .dataframe thead th {\n",
              "        text-align: right;\n",
              "    }\n",
              "</style>\n",
              "<table border=\"1\" class=\"dataframe\">\n",
              "  <thead>\n",
              "    <tr style=\"text-align: right;\">\n",
              "      <th></th>\n",
              "      <th>Unnamed: 0</th>\n",
              "      <th>HHI</th>\n",
              "      <th>HHDL</th>\n",
              "      <th>Married</th>\n",
              "      <th>CollegGrads</th>\n",
              "      <th>AHHAge</th>\n",
              "      <th>Cars</th>\n",
              "      <th>Filed in 2017</th>\n",
              "      <th>Filed in 2016</th>\n",
              "      <th>Filed in 2015</th>\n",
              "      <th>PoliticalParty</th>\n",
              "    </tr>\n",
              "  </thead>\n",
              "  <tbody>\n",
              "    <tr>\n",
              "      <th>0</th>\n",
              "      <td>61</td>\n",
              "      <td>183414</td>\n",
              "      <td>-12402</td>\n",
              "      <td>1</td>\n",
              "      <td>2</td>\n",
              "      <td>28</td>\n",
              "      <td>1</td>\n",
              "      <td>0</td>\n",
              "      <td>0</td>\n",
              "      <td>1</td>\n",
              "      <td>Democrat</td>\n",
              "    </tr>\n",
              "    <tr>\n",
              "      <th>1</th>\n",
              "      <td>501</td>\n",
              "      <td>129786</td>\n",
              "      <td>700251</td>\n",
              "      <td>2</td>\n",
              "      <td>5</td>\n",
              "      <td>63</td>\n",
              "      <td>3</td>\n",
              "      <td>0</td>\n",
              "      <td>0</td>\n",
              "      <td>0</td>\n",
              "      <td>Republican</td>\n",
              "    </tr>\n",
              "    <tr>\n",
              "      <th>2</th>\n",
              "      <td>658</td>\n",
              "      <td>268343</td>\n",
              "      <td>493411</td>\n",
              "      <td>2</td>\n",
              "      <td>4</td>\n",
              "      <td>44</td>\n",
              "      <td>1</td>\n",
              "      <td>1</td>\n",
              "      <td>0</td>\n",
              "      <td>1</td>\n",
              "      <td>Independent</td>\n",
              "    </tr>\n",
              "    <tr>\n",
              "      <th>3</th>\n",
              "      <td>703</td>\n",
              "      <td>290506</td>\n",
              "      <td>-433408</td>\n",
              "      <td>1</td>\n",
              "      <td>1</td>\n",
              "      <td>28</td>\n",
              "      <td>5</td>\n",
              "      <td>1</td>\n",
              "      <td>0</td>\n",
              "      <td>1</td>\n",
              "      <td>Republican</td>\n",
              "    </tr>\n",
              "    <tr>\n",
              "      <th>4</th>\n",
              "      <td>702</td>\n",
              "      <td>90108</td>\n",
              "      <td>907135</td>\n",
              "      <td>1</td>\n",
              "      <td>3</td>\n",
              "      <td>57</td>\n",
              "      <td>5</td>\n",
              "      <td>1</td>\n",
              "      <td>1</td>\n",
              "      <td>0</td>\n",
              "      <td>Democrat</td>\n",
              "    </tr>\n",
              "  </tbody>\n",
              "</table>\n",
              "</div>"
            ],
            "text/plain": [
              "   Unnamed: 0     HHI    HHDL  ...  Filed in 2016  Filed in 2015  PoliticalParty\n",
              "0          61  183414  -12402  ...              0              1        Democrat\n",
              "1         501  129786  700251  ...              0              0      Republican\n",
              "2         658  268343  493411  ...              0              1     Independent\n",
              "3         703  290506 -433408  ...              0              1      Republican\n",
              "4         702   90108  907135  ...              1              0        Democrat\n",
              "\n",
              "[5 rows x 11 columns]"
            ]
          },
          "metadata": {
            "tags": []
          },
          "execution_count": 138
        }
      ]
    },
    {
      "cell_type": "code",
      "metadata": {
        "id": "3schluPqQ-S8",
        "colab": {
          "base_uri": "https://localhost:8080/",
          "height": 49
        },
        "outputId": "02d2fbdf-7760-4d9f-deca-5bb88605f4fc"
      },
      "source": [
        "tax_data[tax_data['Cars'].isnull()]"
      ],
      "execution_count": null,
      "outputs": [
        {
          "output_type": "execute_result",
          "data": {
            "text/html": [
              "<div>\n",
              "<style scoped>\n",
              "    .dataframe tbody tr th:only-of-type {\n",
              "        vertical-align: middle;\n",
              "    }\n",
              "\n",
              "    .dataframe tbody tr th {\n",
              "        vertical-align: top;\n",
              "    }\n",
              "\n",
              "    .dataframe thead th {\n",
              "        text-align: right;\n",
              "    }\n",
              "</style>\n",
              "<table border=\"1\" class=\"dataframe\">\n",
              "  <thead>\n",
              "    <tr style=\"text-align: right;\">\n",
              "      <th></th>\n",
              "      <th>Unnamed: 0</th>\n",
              "      <th>HHI</th>\n",
              "      <th>HHDL</th>\n",
              "      <th>Married</th>\n",
              "      <th>CollegGrads</th>\n",
              "      <th>AHHAge</th>\n",
              "      <th>Cars</th>\n",
              "      <th>Filed in 2017</th>\n",
              "      <th>Filed in 2016</th>\n",
              "      <th>Filed in 2015</th>\n",
              "      <th>PoliticalParty</th>\n",
              "    </tr>\n",
              "  </thead>\n",
              "  <tbody>\n",
              "  </tbody>\n",
              "</table>\n",
              "</div>"
            ],
            "text/plain": [
              "Empty DataFrame\n",
              "Columns: [Unnamed: 0, HHI, HHDL, Married, CollegGrads, AHHAge, Cars, Filed in 2017, Filed in 2016, Filed in 2015, PoliticalParty]\n",
              "Index: []"
            ]
          },
          "metadata": {
            "tags": []
          },
          "execution_count": 108
        }
      ]
    },
    {
      "cell_type": "code",
      "metadata": {
        "id": "9kqI3imSfCdM",
        "colab": {
          "base_uri": "https://localhost:8080/",
          "height": 854
        },
        "outputId": "4bd54ac8-4149-4b77-e6e3-e0a0a9c2b2ec"
      },
      "source": [
        "\r\n",
        "\r\n",
        "def draw_histograms(dataframe, features, rows, cols):\r\n",
        "    fig=plt.figure(figsize=(20,20))\r\n",
        "    for i, feature in enumerate(features):\r\n",
        "        ax=fig.add_subplot(rows,cols,i+1)\r\n",
        "        dataframe[feature].hist(bins=20,ax=ax,facecolor='midnightblue')\r\n",
        "        ax.set_title(feature+\" Distribution\",color='DarkRed')\r\n",
        "        \r\n",
        "    fig.tight_layout()  \r\n",
        "    plt.show()\r\n",
        "draw_histograms(tax_data,tax_data.columns,6,3)"
      ],
      "execution_count": null,
      "outputs": [
        {
          "output_type": "display_data",
          "data": {
            "image/png": "[encoded data removed]",
            "text/plain": [
              "<Figure size 1440x1440 with 11 Axes>"
            ]
          },
          "metadata": {
            "tags": [],
            "needs_background": "light"
          }
        }
      ]
    },
    {
      "cell_type": "code",
      "metadata": {
        "colab": {
          "base_uri": "https://localhost:8080/",
          "height": 293
        },
        "id": "aGi2ptGm6_dg",
        "outputId": "932c9819-7d3c-4878-ea2e-bcff1a0efde0"
      },
      "source": [
        "# box plot.\r\n",
        "tax_data.boxplot(column=['HHDL'])"
      ],
      "execution_count": null,
      "outputs": [
        {
          "output_type": "execute_result",
          "data": {
            "text/plain": [
              "<matplotlib.axes._subplots.AxesSubplot at 0x7f570f86fcf8>"
            ]
          },
          "metadata": {
            "tags": []
          },
          "execution_count": 56
        },
        {
          "output_type": "display_data",
          "data": {
            "image/png": "[encoded data removed]",
            "text/plain": [
              "<Figure size 432x288 with 1 Axes>"
            ]
          },
          "metadata": {
            "tags": [],
            "needs_background": "light"
          }
        }
      ]
    },
    {
      "cell_type": "code",
      "metadata": {
        "colab": {
          "base_uri": "https://localhost:8080/"
        },
        "id": "8Q0xwVtW789Z",
        "outputId": "6812034e-9466-4e83-ad09-b936ac8128ac"
      },
      "source": [
        "tax_data['HHI'].describe()"
      ],
      "execution_count": null,
      "outputs": [
        {
          "output_type": "execute_result",
          "data": {
            "text/plain": [
              "count       803.000000\n",
              "mean     155402.688667\n",
              "std       86788.153213\n",
              "min         185.000000\n",
              "25%       82373.000000\n",
              "50%      156542.000000\n",
              "75%      230772.000000\n",
              "max      299374.000000\n",
              "Name: HHI, dtype: float64"
            ]
          },
          "metadata": {
            "tags": []
          },
          "execution_count": 110
        }
      ]
    },
    {
      "cell_type": "code",
      "metadata": {
        "colab": {
          "base_uri": "https://localhost:8080/",
          "height": 336
        },
        "id": "MsDhGknL8Men",
        "outputId": "4dfa5944-8d4a-465f-b211-2d9a3e7f5ebe"
      },
      "source": [
        "# bar chart -  distribution of a categorical variable\r\n",
        "tax_data['PoliticalParty'].value_counts().plot.bar()"
      ],
      "execution_count": null,
      "outputs": [
        {
          "output_type": "execute_result",
          "data": {
            "text/plain": [
              "<matplotlib.axes._subplots.AxesSubplot at 0x7f570f7df710>"
            ]
          },
          "metadata": {
            "tags": []
          },
          "execution_count": 58
        },
        {
          "output_type": "display_data",
          "data": {
            "image/png": "[encoded data removed]",
            "text/plain": [
              "<Figure size 432x288 with 1 Axes>"
            ]
          },
          "metadata": {
            "tags": [],
            "needs_background": "light"
          }
        }
      ]
    },
    {
      "cell_type": "code",
      "metadata": {
        "colab": {
          "base_uri": "https://localhost:8080/"
        },
        "id": "xwOvyMtM-piC",
        "outputId": "c1259713-5c76-4541-f626-ef2daffcbe03"
      },
      "source": [
        "tax_data.dtypes"
      ],
      "execution_count": null,
      "outputs": [
        {
          "output_type": "execute_result",
          "data": {
            "text/plain": [
              "Unnamed: 0         int64\n",
              "HHI                int64\n",
              "HHDL               int64\n",
              "Married            int64\n",
              "CollegGrads        int64\n",
              "AHHAge             int64\n",
              "Cars               int64\n",
              "Filed in 2017      int64\n",
              "Filed in 2016      int64\n",
              "Filed in 2015      int64\n",
              "PoliticalParty    object\n",
              "dtype: object"
            ]
          },
          "metadata": {
            "tags": []
          },
          "execution_count": 181
        }
      ]
    },
    {
      "cell_type": "code",
      "metadata": {
        "colab": {
          "base_uri": "https://localhost:8080/",
          "height": 204
        },
        "id": "zjTHZ0OZAWe0",
        "outputId": "810837df-9430-4c53-b345-a948fdd8efb9"
      },
      "source": [
        "tax_data.head()"
      ],
      "execution_count": null,
      "outputs": [
        {
          "output_type": "execute_result",
          "data": {
            "text/html": [
              "<div>\n",
              "<style scoped>\n",
              "    .dataframe tbody tr th:only-of-type {\n",
              "        vertical-align: middle;\n",
              "    }\n",
              "\n",
              "    .dataframe tbody tr th {\n",
              "        vertical-align: top;\n",
              "    }\n",
              "\n",
              "    .dataframe thead th {\n",
              "        text-align: right;\n",
              "    }\n",
              "</style>\n",
              "<table border=\"1\" class=\"dataframe\">\n",
              "  <thead>\n",
              "    <tr style=\"text-align: right;\">\n",
              "      <th></th>\n",
              "      <th>Unnamed: 0</th>\n",
              "      <th>HHI</th>\n",
              "      <th>HHDL</th>\n",
              "      <th>Married</th>\n",
              "      <th>CollegGrads</th>\n",
              "      <th>AHHAge</th>\n",
              "      <th>Cars</th>\n",
              "      <th>Filed in 2017</th>\n",
              "      <th>Filed in 2016</th>\n",
              "      <th>Filed in 2015</th>\n",
              "      <th>PoliticalParty</th>\n",
              "    </tr>\n",
              "  </thead>\n",
              "  <tbody>\n",
              "    <tr>\n",
              "      <th>0</th>\n",
              "      <td>61</td>\n",
              "      <td>183414</td>\n",
              "      <td>-12402</td>\n",
              "      <td>1</td>\n",
              "      <td>2</td>\n",
              "      <td>28</td>\n",
              "      <td>1</td>\n",
              "      <td>0</td>\n",
              "      <td>0</td>\n",
              "      <td>1</td>\n",
              "      <td>Democrat</td>\n",
              "    </tr>\n",
              "    <tr>\n",
              "      <th>1</th>\n",
              "      <td>501</td>\n",
              "      <td>129786</td>\n",
              "      <td>700251</td>\n",
              "      <td>2</td>\n",
              "      <td>5</td>\n",
              "      <td>63</td>\n",
              "      <td>3</td>\n",
              "      <td>0</td>\n",
              "      <td>0</td>\n",
              "      <td>0</td>\n",
              "      <td>Republican</td>\n",
              "    </tr>\n",
              "    <tr>\n",
              "      <th>2</th>\n",
              "      <td>658</td>\n",
              "      <td>268343</td>\n",
              "      <td>493411</td>\n",
              "      <td>2</td>\n",
              "      <td>4</td>\n",
              "      <td>44</td>\n",
              "      <td>1</td>\n",
              "      <td>1</td>\n",
              "      <td>0</td>\n",
              "      <td>1</td>\n",
              "      <td>Independent</td>\n",
              "    </tr>\n",
              "    <tr>\n",
              "      <th>3</th>\n",
              "      <td>703</td>\n",
              "      <td>290506</td>\n",
              "      <td>-433408</td>\n",
              "      <td>1</td>\n",
              "      <td>1</td>\n",
              "      <td>28</td>\n",
              "      <td>5</td>\n",
              "      <td>1</td>\n",
              "      <td>0</td>\n",
              "      <td>1</td>\n",
              "      <td>Republican</td>\n",
              "    </tr>\n",
              "    <tr>\n",
              "      <th>4</th>\n",
              "      <td>702</td>\n",
              "      <td>90108</td>\n",
              "      <td>907135</td>\n",
              "      <td>1</td>\n",
              "      <td>3</td>\n",
              "      <td>57</td>\n",
              "      <td>5</td>\n",
              "      <td>1</td>\n",
              "      <td>1</td>\n",
              "      <td>0</td>\n",
              "      <td>Democrat</td>\n",
              "    </tr>\n",
              "  </tbody>\n",
              "</table>\n",
              "</div>"
            ],
            "text/plain": [
              "   Unnamed: 0     HHI    HHDL  ...  Filed in 2016  Filed in 2015  PoliticalParty\n",
              "0          61  183414  -12402  ...              0              1        Democrat\n",
              "1         501  129786  700251  ...              0              0      Republican\n",
              "2         658  268343  493411  ...              0              1     Independent\n",
              "3         703  290506 -433408  ...              0              1      Republican\n",
              "4         702   90108  907135  ...              1              0        Democrat\n",
              "\n",
              "[5 rows x 11 columns]"
            ]
          },
          "metadata": {
            "tags": []
          },
          "execution_count": 139
        }
      ]
    },
    {
      "cell_type": "code",
      "metadata": {
        "id": "g01vFpJyAsJN"
      },
      "source": [
        "tax_data=tax_data.drop_duplicates()"
      ],
      "execution_count": null,
      "outputs": []
    },
    {
      "cell_type": "code",
      "metadata": {
        "id": "IINPgKwcA023",
        "colab": {
          "base_uri": "https://localhost:8080/"
        },
        "outputId": "dbfa0348-1bcb-4e03-8e11-b35fed0a068f"
      },
      "source": [
        "tax_data.info()"
      ],
      "execution_count": null,
      "outputs": [
        {
          "output_type": "stream",
          "text": [
            "<class 'pandas.core.frame.DataFrame'>\n",
            "RangeIndex: 803 entries, 0 to 802\n",
            "Data columns (total 11 columns):\n",
            " #   Column          Non-Null Count  Dtype \n",
            "---  ------          --------------  ----- \n",
            " 0   Unnamed: 0      803 non-null    int64 \n",
            " 1   HHI             803 non-null    int64 \n",
            " 2   HHDL            803 non-null    int64 \n",
            " 3   Married         803 non-null    int64 \n",
            " 4   CollegGrads     803 non-null    int64 \n",
            " 5   AHHAge          803 non-null    int64 \n",
            " 6   Cars            803 non-null    int64 \n",
            " 7   Filed in 2017   803 non-null    int64 \n",
            " 8   Filed in 2016   803 non-null    int64 \n",
            " 9   Filed in 2015   803 non-null    int64 \n",
            " 10  PoliticalParty  803 non-null    object\n",
            "dtypes: int64(10), object(1)\n",
            "memory usage: 69.1+ KB\n"
          ],
          "name": "stdout"
        }
      ]
    },
    {
      "cell_type": "code",
      "metadata": {
        "id": "mrJQegExA6qU"
      },
      "source": [
        "sns.boxplot(x=tax_data['Married'])"
      ],
      "execution_count": null,
      "outputs": []
    },
    {
      "cell_type": "code",
      "metadata": {
        "colab": {
          "base_uri": "https://localhost:8080/"
        },
        "id": "AkGseR04G8Al",
        "outputId": "2f2f28b8-a48c-4dd3-e5ff-4bbf619cbe54"
      },
      "source": [
        "tax_data['PoliticalParty'].value_counts()"
      ],
      "execution_count": null,
      "outputs": [
        {
          "output_type": "execute_result",
          "data": {
            "text/plain": [
              "Independent    269\n",
              "Democrat       269\n",
              "Republican     265\n",
              "Name: PoliticalParty, dtype: int64"
            ]
          },
          "metadata": {
            "tags": []
          },
          "execution_count": 185
        }
      ]
    },
    {
      "cell_type": "code",
      "metadata": {
        "colab": {
          "base_uri": "https://localhost:8080/",
          "height": 204
        },
        "id": "KB2Y3TbfDBRR",
        "outputId": "43d5493a-04c0-4b62-916a-6ca544b1c475"
      },
      "source": [
        "tax_data.head()\r\n"
      ],
      "execution_count": null,
      "outputs": [
        {
          "output_type": "execute_result",
          "data": {
            "text/html": [
              "<div>\n",
              "<style scoped>\n",
              "    .dataframe tbody tr th:only-of-type {\n",
              "        vertical-align: middle;\n",
              "    }\n",
              "\n",
              "    .dataframe tbody tr th {\n",
              "        vertical-align: top;\n",
              "    }\n",
              "\n",
              "    .dataframe thead th {\n",
              "        text-align: right;\n",
              "    }\n",
              "</style>\n",
              "<table border=\"1\" class=\"dataframe\">\n",
              "  <thead>\n",
              "    <tr style=\"text-align: right;\">\n",
              "      <th></th>\n",
              "      <th>Unnamed: 0</th>\n",
              "      <th>HHI</th>\n",
              "      <th>HHDL</th>\n",
              "      <th>Married</th>\n",
              "      <th>CollegGrads</th>\n",
              "      <th>AHHAge</th>\n",
              "      <th>Cars</th>\n",
              "      <th>Filed in 2017</th>\n",
              "      <th>Filed in 2016</th>\n",
              "      <th>Filed in 2015</th>\n",
              "      <th>PoliticalParty</th>\n",
              "    </tr>\n",
              "  </thead>\n",
              "  <tbody>\n",
              "    <tr>\n",
              "      <th>0</th>\n",
              "      <td>61</td>\n",
              "      <td>183414</td>\n",
              "      <td>-12402</td>\n",
              "      <td>1</td>\n",
              "      <td>2</td>\n",
              "      <td>28</td>\n",
              "      <td>1</td>\n",
              "      <td>0</td>\n",
              "      <td>0</td>\n",
              "      <td>1</td>\n",
              "      <td>Democrat</td>\n",
              "    </tr>\n",
              "    <tr>\n",
              "      <th>1</th>\n",
              "      <td>501</td>\n",
              "      <td>129786</td>\n",
              "      <td>700251</td>\n",
              "      <td>2</td>\n",
              "      <td>5</td>\n",
              "      <td>63</td>\n",
              "      <td>3</td>\n",
              "      <td>0</td>\n",
              "      <td>0</td>\n",
              "      <td>0</td>\n",
              "      <td>Republican</td>\n",
              "    </tr>\n",
              "    <tr>\n",
              "      <th>2</th>\n",
              "      <td>658</td>\n",
              "      <td>268343</td>\n",
              "      <td>493411</td>\n",
              "      <td>2</td>\n",
              "      <td>4</td>\n",
              "      <td>44</td>\n",
              "      <td>1</td>\n",
              "      <td>1</td>\n",
              "      <td>0</td>\n",
              "      <td>1</td>\n",
              "      <td>Independent</td>\n",
              "    </tr>\n",
              "    <tr>\n",
              "      <th>3</th>\n",
              "      <td>703</td>\n",
              "      <td>290506</td>\n",
              "      <td>-433408</td>\n",
              "      <td>1</td>\n",
              "      <td>1</td>\n",
              "      <td>28</td>\n",
              "      <td>5</td>\n",
              "      <td>1</td>\n",
              "      <td>0</td>\n",
              "      <td>1</td>\n",
              "      <td>Republican</td>\n",
              "    </tr>\n",
              "    <tr>\n",
              "      <th>4</th>\n",
              "      <td>702</td>\n",
              "      <td>90108</td>\n",
              "      <td>907135</td>\n",
              "      <td>1</td>\n",
              "      <td>3</td>\n",
              "      <td>57</td>\n",
              "      <td>5</td>\n",
              "      <td>1</td>\n",
              "      <td>1</td>\n",
              "      <td>0</td>\n",
              "      <td>Democrat</td>\n",
              "    </tr>\n",
              "  </tbody>\n",
              "</table>\n",
              "</div>"
            ],
            "text/plain": [
              "   Unnamed: 0     HHI    HHDL  ...  Filed in 2016  Filed in 2015  PoliticalParty\n",
              "0          61  183414  -12402  ...              0              1        Democrat\n",
              "1         501  129786  700251  ...              0              0      Republican\n",
              "2         658  268343  493411  ...              0              1     Independent\n",
              "3         703  290506 -433408  ...              0              1      Republican\n",
              "4         702   90108  907135  ...              1              0        Democrat\n",
              "\n",
              "[5 rows x 11 columns]"
            ]
          },
          "metadata": {
            "tags": []
          },
          "execution_count": 188
        }
      ]
    },
    {
      "cell_type": "code",
      "metadata": {
        "colab": {
          "base_uri": "https://localhost:8080/"
        },
        "id": "Ts67THaKTqdl",
        "outputId": "6d963caf-fb65-4ec1-eca8-209f5481c4cb"
      },
      "source": [
        "le = preprocessing.LabelEncoder()\r\n",
        "le.fit(tax_data['PoliticalParty'])\r\n",
        "LabelEncoder()\r\n",
        "list(le.classes_)\r\n",
        "le.transform(tax_data['PoliticalParty'])\r\n"
      ],
      "execution_count": null,
      "outputs": [
        {
          "output_type": "execute_result",
          "data": {
            "text/plain": [
              "array([0, 2, 1, 2, 0, 1, 0, 1, 1, 2, 0, 1, 1, 2, 0, 1, 2, 0, 1, 1, 0, 0,\n",
              "       0, 1, 0, 2, 1, 2, 2, 0, 1, 2, 2, 1, 1, 2, 0, 2, 2, 2, 1, 1, 1, 2,\n",
              "       1, 2, 0, 2, 0, 1, 0, 1, 0, 0, 1, 1, 0, 1, 0, 1, 0, 0, 1, 2, 0, 2,\n",
              "       0, 1, 2, 1, 1, 1, 1, 1, 1, 0, 1, 2, 1, 0, 0, 1, 1, 2, 0, 0, 1, 1,\n",
              "       2, 1, 1, 0, 0, 1, 2, 1, 2, 2, 0, 1, 2, 2, 0, 1, 2, 1, 0, 1, 1, 0,\n",
              "       0, 2, 2, 2, 1, 2, 2, 2, 1, 1, 2, 0, 2, 1, 2, 2, 0, 0, 0, 0, 1, 2,\n",
              "       2, 0, 2, 1, 0, 2, 0, 1, 2, 1, 1, 0, 1, 1, 0, 1, 1, 1, 2, 0, 2, 0,\n",
              "       0, 1, 2, 1, 1, 2, 2, 1, 0, 2, 0, 1, 2, 1, 0, 2, 2, 1, 2, 0, 0, 0,\n",
              "       1, 0, 0, 1, 1, 0, 2, 0, 1, 2, 1, 0, 1, 0, 2, 1, 2, 1, 2, 1, 0, 2,\n",
              "       1, 0, 2, 2, 2, 0, 1, 0, 1, 0, 0, 0, 2, 2, 1, 2, 0, 0, 1, 0, 0, 2,\n",
              "       2, 0, 1, 2, 2, 2, 1, 2, 0, 1, 2, 0, 2, 0, 0, 0, 2, 2, 1, 0, 1, 1,\n",
              "       0, 0, 2, 1, 0, 0, 1, 0, 1, 2, 0, 2, 2, 2, 2, 1, 0, 0, 2, 0, 2, 2,\n",
              "       1, 0, 0, 0, 2, 1, 1, 0, 1, 0, 0, 2, 0, 1, 2, 2, 1, 2, 1, 2, 2, 2,\n",
              "       0, 1, 0, 2, 2, 1, 0, 0, 0, 0, 2, 1, 2, 0, 0, 1, 2, 2, 0, 0, 2, 0,\n",
              "       0, 1, 1, 2, 1, 0, 2, 1, 1, 0, 1, 0, 1, 0, 1, 2, 2, 1, 0, 1, 2, 1,\n",
              "       2, 1, 1, 0, 2, 0, 0, 1, 2, 0, 2, 2, 0, 1, 1, 2, 2, 0, 2, 1, 1, 2,\n",
              "       2, 1, 0, 1, 2, 0, 0, 0, 0, 0, 2, 0, 0, 2, 0, 1, 0, 2, 1, 0, 1, 2,\n",
              "       0, 0, 2, 2, 2, 0, 0, 2, 1, 2, 0, 0, 0, 1, 2, 1, 0, 2, 1, 0, 1, 1,\n",
              "       0, 2, 0, 0, 2, 1, 0, 2, 0, 0, 0, 1, 2, 2, 1, 1, 0, 1, 2, 2, 2, 1,\n",
              "       0, 2, 2, 2, 0, 2, 2, 0, 1, 0, 1, 2, 1, 1, 1, 0, 0, 1, 2, 2, 0, 1,\n",
              "       1, 1, 1, 0, 1, 2, 1, 0, 2, 1, 1, 2, 0, 2, 1, 0, 2, 0, 2, 2, 0, 2,\n",
              "       1, 0, 1, 2, 2, 2, 2, 2, 1, 0, 2, 2, 1, 0, 1, 0, 2, 0, 0, 1, 2, 1,\n",
              "       0, 1, 2, 1, 1, 0, 0, 1, 1, 0, 0, 1, 1, 1, 0, 1, 1, 2, 0, 2, 2, 1,\n",
              "       2, 1, 1, 2, 1, 2, 1, 1, 2, 1, 1, 2, 0, 1, 0, 1, 2, 0, 0, 0, 0, 1,\n",
              "       1, 1, 0, 0, 0, 1, 1, 1, 0, 2, 1, 0, 1, 0, 2, 0, 1, 2, 1, 2, 1, 1,\n",
              "       0, 1, 1, 1, 0, 2, 1, 0, 0, 2, 1, 2, 0, 2, 0, 0, 1, 1, 0, 1, 0, 0,\n",
              "       0, 1, 0, 2, 2, 2, 2, 0, 0, 0, 1, 0, 1, 2, 1, 1, 1, 2, 0, 2, 1, 2,\n",
              "       0, 1, 0, 1, 1, 2, 0, 2, 0, 0, 2, 1, 2, 2, 0, 1, 1, 2, 2, 2, 0, 0,\n",
              "       1, 1, 1, 0, 1, 0, 0, 2, 2, 0, 1, 2, 2, 2, 1, 1, 0, 1, 0, 0, 1, 1,\n",
              "       1, 0, 1, 2, 0, 1, 2, 0, 1, 2, 0, 1, 0, 1, 1, 2, 0, 2, 2, 1, 1, 0,\n",
              "       2, 2, 0, 2, 2, 2, 2, 1, 2, 0, 1, 2, 2, 2, 2, 1, 0, 1, 1, 2, 0, 2,\n",
              "       2, 0, 0, 0, 0, 0, 0, 0, 2, 1, 2, 1, 2, 0, 2, 1, 2, 1, 2, 1, 1, 2,\n",
              "       1, 2, 2, 1, 0, 2, 2, 2, 0, 0, 2, 1, 1, 2, 0, 2, 2, 0, 2, 0, 0, 1,\n",
              "       1, 0, 2, 0, 0, 2, 1, 2, 1, 0, 2, 2, 2, 2, 1, 2, 2, 2, 0, 1, 1, 2,\n",
              "       1, 1, 0, 1, 1, 2, 2, 0, 0, 1, 0, 1, 1, 0, 2, 1, 0, 0, 1, 2, 1, 2,\n",
              "       2, 0, 2, 2, 0, 0, 0, 1, 2, 1, 0, 2, 2, 0, 0, 0, 0, 2, 2, 0, 1, 0,\n",
              "       1, 2, 2, 1, 0, 2, 0, 0, 0, 2, 2])"
            ]
          },
          "metadata": {
            "tags": []
          },
          "execution_count": 190
        }
      ]
    },
    {
      "cell_type": "code",
      "metadata": {
        "colab": {
          "base_uri": "https://localhost:8080/",
          "height": 204
        },
        "id": "onsQgqMcULzw",
        "outputId": "2001d8cd-43f6-41ca-b62a-dbe3c61af338"
      },
      "source": [
        "tax_data.head()"
      ],
      "execution_count": null,
      "outputs": [
        {
          "output_type": "execute_result",
          "data": {
            "text/html": [
              "<div>\n",
              "<style scoped>\n",
              "    .dataframe tbody tr th:only-of-type {\n",
              "        vertical-align: middle;\n",
              "    }\n",
              "\n",
              "    .dataframe tbody tr th {\n",
              "        vertical-align: top;\n",
              "    }\n",
              "\n",
              "    .dataframe thead th {\n",
              "        text-align: right;\n",
              "    }\n",
              "</style>\n",
              "<table border=\"1\" class=\"dataframe\">\n",
              "  <thead>\n",
              "    <tr style=\"text-align: right;\">\n",
              "      <th></th>\n",
              "      <th>Unnamed: 0</th>\n",
              "      <th>HHI</th>\n",
              "      <th>HHDL</th>\n",
              "      <th>Married</th>\n",
              "      <th>CollegGrads</th>\n",
              "      <th>AHHAge</th>\n",
              "      <th>Cars</th>\n",
              "      <th>Filed in 2017</th>\n",
              "      <th>Filed in 2016</th>\n",
              "      <th>Filed in 2015</th>\n",
              "      <th>PoliticalParty</th>\n",
              "    </tr>\n",
              "  </thead>\n",
              "  <tbody>\n",
              "    <tr>\n",
              "      <th>0</th>\n",
              "      <td>61</td>\n",
              "      <td>183414</td>\n",
              "      <td>-12402</td>\n",
              "      <td>1</td>\n",
              "      <td>2</td>\n",
              "      <td>28</td>\n",
              "      <td>1</td>\n",
              "      <td>0</td>\n",
              "      <td>0</td>\n",
              "      <td>1</td>\n",
              "      <td>Democrat</td>\n",
              "    </tr>\n",
              "    <tr>\n",
              "      <th>1</th>\n",
              "      <td>501</td>\n",
              "      <td>129786</td>\n",
              "      <td>700251</td>\n",
              "      <td>2</td>\n",
              "      <td>5</td>\n",
              "      <td>63</td>\n",
              "      <td>3</td>\n",
              "      <td>0</td>\n",
              "      <td>0</td>\n",
              "      <td>0</td>\n",
              "      <td>Republican</td>\n",
              "    </tr>\n",
              "    <tr>\n",
              "      <th>2</th>\n",
              "      <td>658</td>\n",
              "      <td>268343</td>\n",
              "      <td>493411</td>\n",
              "      <td>2</td>\n",
              "      <td>4</td>\n",
              "      <td>44</td>\n",
              "      <td>1</td>\n",
              "      <td>1</td>\n",
              "      <td>0</td>\n",
              "      <td>1</td>\n",
              "      <td>Independent</td>\n",
              "    </tr>\n",
              "    <tr>\n",
              "      <th>3</th>\n",
              "      <td>703</td>\n",
              "      <td>290506</td>\n",
              "      <td>-433408</td>\n",
              "      <td>1</td>\n",
              "      <td>1</td>\n",
              "      <td>28</td>\n",
              "      <td>5</td>\n",
              "      <td>1</td>\n",
              "      <td>0</td>\n",
              "      <td>1</td>\n",
              "      <td>Republican</td>\n",
              "    </tr>\n",
              "    <tr>\n",
              "      <th>4</th>\n",
              "      <td>702</td>\n",
              "      <td>90108</td>\n",
              "      <td>907135</td>\n",
              "      <td>1</td>\n",
              "      <td>3</td>\n",
              "      <td>57</td>\n",
              "      <td>5</td>\n",
              "      <td>1</td>\n",
              "      <td>1</td>\n",
              "      <td>0</td>\n",
              "      <td>Democrat</td>\n",
              "    </tr>\n",
              "  </tbody>\n",
              "</table>\n",
              "</div>"
            ],
            "text/plain": [
              "   Unnamed: 0     HHI    HHDL  ...  Filed in 2016  Filed in 2015  PoliticalParty\n",
              "0          61  183414  -12402  ...              0              1        Democrat\n",
              "1         501  129786  700251  ...              0              0      Republican\n",
              "2         658  268343  493411  ...              0              1     Independent\n",
              "3         703  290506 -433408  ...              0              1      Republican\n",
              "4         702   90108  907135  ...              1              0        Democrat\n",
              "\n",
              "[5 rows x 11 columns]"
            ]
          },
          "metadata": {
            "tags": []
          },
          "execution_count": 191
        }
      ]
    },
    {
      "cell_type": "code",
      "metadata": {
        "id": "SrjOg8sJRHsK"
      },
      "source": [
        "X = tax_data.drop('PoliticalParty', axis = 1) \r\n",
        "\r\n",
        "\r\n",
        "y =le.transform(tax_data['PoliticalParty'])"
      ],
      "execution_count": null,
      "outputs": []
    },
    {
      "cell_type": "code",
      "metadata": {
        "id": "xI6ts5YZWiua"
      },
      "source": [
        "X_train, X_test, y_train, y_test = train_test_split(X, y, test_size = 0.2, random_state = 101)"
      ],
      "execution_count": null,
      "outputs": []
    },
    {
      "cell_type": "code",
      "metadata": {
        "id": "jlYMdLf1Wxix"
      },
      "source": [
        "model = LogisticRegression()"
      ],
      "execution_count": null,
      "outputs": []
    },
    {
      "cell_type": "code",
      "metadata": {
        "colab": {
          "base_uri": "https://localhost:8080/"
        },
        "id": "iaigWIKaW2VO",
        "outputId": "567dc284-ea96-41ea-b4cd-0bb50aab5894"
      },
      "source": [
        "model.fit(X_train, y_train)"
      ],
      "execution_count": null,
      "outputs": [
        {
          "output_type": "execute_result",
          "data": {
            "text/plain": [
              "LogisticRegression(C=1.0, class_weight=None, dual=False, fit_intercept=True,\n",
              "                   intercept_scaling=1, l1_ratio=None, max_iter=100,\n",
              "                   multi_class='auto', n_jobs=None, penalty='l2',\n",
              "                   random_state=None, solver='lbfgs', tol=0.0001, verbose=0,\n",
              "                   warm_start=False)"
            ]
          },
          "metadata": {
            "tags": []
          },
          "execution_count": 195
        }
      ]
    },
    {
      "cell_type": "code",
      "metadata": {
        "id": "fceWZ5LSW7nY"
      },
      "source": [
        "pred = model.predict(X_test)"
      ],
      "execution_count": null,
      "outputs": []
    },
    {
      "cell_type": "code",
      "metadata": {
        "colab": {
          "base_uri": "https://localhost:8080/"
        },
        "id": "cjtmvLyDW_hM",
        "outputId": "37ff9f36-d742-4f03-fd4b-bae401c310d8"
      },
      "source": [
        "from sklearn.metrics import accuracy_score\r\n",
        "accuracy_score(y_test, pred)"
      ],
      "execution_count": null,
      "outputs": [
        {
          "output_type": "execute_result",
          "data": {
            "text/plain": [
              "0.33540372670807456"
            ]
          },
          "metadata": {
            "tags": []
          },
          "execution_count": 197
        }
      ]
    },
    {
      "cell_type": "code",
      "metadata": {
        "id": "wW1gWdcNXZmI"
      },
      "source": [
        "test_data = pd.read_csv('https://raw.githubusercontent.com/dphi-official/Datasets/master/tax_payers/test_set_label.csv')"
      ],
      "execution_count": null,
      "outputs": []
    },
    {
      "cell_type": "code",
      "metadata": {
        "colab": {
          "base_uri": "https://localhost:8080/"
        },
        "id": "JUCGwd2YXilG",
        "outputId": "bd58f99b-db45-4be1-9ce2-3f706308b8e5"
      },
      "source": [
        "test_data.info()"
      ],
      "execution_count": null,
      "outputs": [
        {
          "output_type": "stream",
          "text": [
            "<class 'pandas.core.frame.DataFrame'>\n",
            "RangeIndex: 201 entries, 0 to 200\n",
            "Data columns (total 10 columns):\n",
            " #   Column         Non-Null Count  Dtype\n",
            "---  ------         --------------  -----\n",
            " 0   Unnamed: 0     201 non-null    int64\n",
            " 1   HHI            201 non-null    int64\n",
            " 2   HHDL           201 non-null    int64\n",
            " 3   Married        201 non-null    int64\n",
            " 4   CollegGrads    201 non-null    int64\n",
            " 5   AHHAge         201 non-null    int64\n",
            " 6   Cars           201 non-null    int64\n",
            " 7   Filed in 2017  201 non-null    int64\n",
            " 8   Filed in 2016  201 non-null    int64\n",
            " 9   Filed in 2015  201 non-null    int64\n",
            "dtypes: int64(10)\n",
            "memory usage: 15.8 KB\n"
          ],
          "name": "stdout"
        }
      ]
    },
    {
      "cell_type": "code",
      "metadata": {
        "id": "1KYgpGorXmLb"
      },
      "source": [
        "predictions = model.predict(test_data)\r\n"
      ],
      "execution_count": null,
      "outputs": []
    },
    {
      "cell_type": "code",
      "metadata": {
        "colab": {
          "base_uri": "https://localhost:8080/",
          "height": 17
        },
        "id": "0NE1ML4FYC0P",
        "outputId": "fc497019-39be-474d-a30d-3b2515e05d90"
      },
      "source": [
        "\r\n",
        "# To create Dataframe of predicted value with particular respective index\r\n",
        "res = pd.DataFrame(le.inverse_transform(predictions)) #preditcions are nothing but the final predictions of your model on input features of your new unseen test data\r\n",
        "res.index = test_data.index # its important for comparison. Here \"test_new\" is your new test dataset\r\n",
        "res.columns = [\"prediction\"]\r\n",
        "# To download the csv file locally\r\n",
        "from google.colab import files\r\n",
        "res.to_csv('prediction_results.csv',index=False)         \r\n",
        "files.download('prediction_results.csv')\r\n",
        "# "
      ],
      "execution_count": null,
      "outputs": [
        {
          "output_type": "display_data",
          "data": {
            "application/javascript": [
              "\n",
              "    async function download(id, filename, size) {\n",
              "      if (!google.colab.kernel.accessAllowed) {\n",
              "        return;\n",
              "      }\n",
              "      const div = document.createElement('div');\n",
              "      const label = document.createElement('label');\n",
              "      label.textContent = `Downloading \"${filename}\": `;\n",
              "      div.appendChild(label);\n",
              "      const progress = document.createElement('progress');\n",
              "      progress.max = size;\n",
              "      div.appendChild(progress);\n",
              "      document.body.appendChild(div);\n",
              "\n",
              "      const buffers = [];\n",
              "      let downloaded = 0;\n",
              "\n",
              "      const channel = await google.colab.kernel.comms.open(id);\n",
              "      // Send a message to notify the kernel that we're ready.\n",
              "      channel.send({})\n",
              "\n",
              "      for await (const message of channel.messages) {\n",
              "        // Send a message to notify the kernel that we're ready.\n",
              "        channel.send({})\n",
              "        if (message.buffers) {\n",
              "          for (const buffer of message.buffers) {\n",
              "            buffers.push(buffer);\n",
              "            downloaded += buffer.byteLength;\n",
              "            progress.value = downloaded;\n",
              "          }\n",
              "        }\n",
              "      }\n",
              "      const blob = new Blob(buffers, {type: 'application/binary'});\n",
              "      const a = document.createElement('a');\n",
              "      a.href = window.URL.createObjectURL(blob);\n",
              "      a.download = filename;\n",
              "      div.appendChild(a);\n",
              "      a.click();\n",
              "      div.remove();\n",
              "    }\n",
              "  "
            ],
            "text/plain": [
              "<IPython.core.display.Javascript object>"
            ]
          },
          "metadata": {
            "tags": []
          }
        },
        {
          "output_type": "display_data",
          "data": {
            "application/javascript": [
              "download(\"download_18771d5d-2da8-4bfd-a1ac-f975de3c72c6\", \"prediction_results.csv\", 2160)"
            ],
            "text/plain": [
              "<IPython.core.display.Javascript object>"
            ]
          },
          "metadata": {
            "tags": []
          }
        }
      ]
    }
  ]
}